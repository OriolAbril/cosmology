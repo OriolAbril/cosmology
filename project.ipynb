{
 "cells": [
  {
   "cell_type": "markdown",
   "metadata": {},
   "source": [
    "# Cosmology project: Measuring Cosmic acceleration with Type Ia Supernovaes"
   ]
  },
  {
   "cell_type": "code",
   "execution_count": 1,
   "metadata": {
    "collapsed": true
   },
   "outputs": [],
   "source": [
    "import pandas as pd\n",
    "import matplotlib.pyplot as plt\n",
    "%matplotlib inline\n",
    "import scipy.optimize as opt\n",
    "import scipy.integrate as pyint\n",
    "import scipy.constants as const\n",
    "import scipy.stats as stat\n",
    "import numpy as np"
   ]
  },
  {
   "cell_type": "code",
   "execution_count": 2,
   "metadata": {},
   "outputs": [
    {
     "data": {
      "text/html": [
       "<div>\n",
       "<style scoped>\n",
       "    .dataframe tbody tr th:only-of-type {\n",
       "        vertical-align: middle;\n",
       "    }\n",
       "\n",
       "    .dataframe tbody tr th {\n",
       "        vertical-align: top;\n",
       "    }\n",
       "\n",
       "    .dataframe thead th {\n",
       "        text-align: right;\n",
       "    }\n",
       "</style>\n",
       "<table border=\"1\" class=\"dataframe\">\n",
       "  <thead>\n",
       "    <tr style=\"text-align: right;\">\n",
       "      <th></th>\n",
       "      <th>z</th>\n",
       "      <th>Mb</th>\n",
       "      <th>stretch</th>\n",
       "      <th>color</th>\n",
       "      <th>d_mod</th>\n",
       "      <th>unknown</th>\n",
       "      <th>sample</th>\n",
       "      <th>Cuts Failed</th>\n",
       "    </tr>\n",
       "    <tr>\n",
       "      <th>ID</th>\n",
       "      <th></th>\n",
       "      <th></th>\n",
       "      <th></th>\n",
       "      <th></th>\n",
       "      <th></th>\n",
       "      <th></th>\n",
       "      <th></th>\n",
       "      <th></th>\n",
       "    </tr>\n",
       "  </thead>\n",
       "  <tbody>\n",
       "    <tr>\n",
       "      <th>1993ah</th>\n",
       "      <td>0.0285</td>\n",
       "      <td>16.86(0.19</td>\n",
       "      <td>-2.26(0.93</td>\n",
       "      <td>0.23(0.09</td>\n",
       "      <td>35.35(0.22</td>\n",
       "      <td>0.128</td>\n",
       "      <td>1.0</td>\n",
       "      <td>\\nodata</td>\n",
       "    </tr>\n",
       "    <tr>\n",
       "      <th>1993ag</th>\n",
       "      <td>0.0500</td>\n",
       "      <td>17.79(0.05</td>\n",
       "      <td>-1.09(0.24</td>\n",
       "      <td>0.12(0.02</td>\n",
       "      <td>36.68(0.17</td>\n",
       "      <td>0.128</td>\n",
       "      <td>1.0</td>\n",
       "      <td>\\nodata</td>\n",
       "    </tr>\n",
       "    <tr>\n",
       "      <th>1993o</th>\n",
       "      <td>0.0529</td>\n",
       "      <td>17.60(0.05</td>\n",
       "      <td>-1.03(0.14</td>\n",
       "      <td>-0.01(0.02</td>\n",
       "      <td>36.82(0.16</td>\n",
       "      <td>0.128</td>\n",
       "      <td>1.0</td>\n",
       "      <td>\\nodata</td>\n",
       "    </tr>\n",
       "    <tr>\n",
       "      <th>1993b</th>\n",
       "      <td>0.0701</td>\n",
       "      <td>18.43(0.04</td>\n",
       "      <td>-0.53(0.21</td>\n",
       "      <td>0.09(0.02</td>\n",
       "      <td>37.45(0.16</td>\n",
       "      <td>0.128</td>\n",
       "      <td>1.0</td>\n",
       "      <td>\\nodata</td>\n",
       "    </tr>\n",
       "    <tr>\n",
       "      <th>1992bs</th>\n",
       "      <td>0.0627</td>\n",
       "      <td>18.25(0.05</td>\n",
       "      <td>-0.27(0.23</td>\n",
       "      <td>0.02(0.02</td>\n",
       "      <td>37.48(0.16</td>\n",
       "      <td>0.128</td>\n",
       "      <td>1.0</td>\n",
       "      <td>\\nodata</td>\n",
       "    </tr>\n",
       "    <tr>\n",
       "      <th>1992br</th>\n",
       "      <td>0.0876</td>\n",
       "      <td>19.19(0.11</td>\n",
       "      <td>-2.97(0.38</td>\n",
       "      <td>-0.04(0.07</td>\n",
       "      <td>38.23(0.19</td>\n",
       "      <td>0.128</td>\n",
       "      <td>1.0</td>\n",
       "      <td>\\nodata</td>\n",
       "    </tr>\n",
       "    <tr>\n",
       "      <th>1992bp</th>\n",
       "      <td>0.0786</td>\n",
       "      <td>18.27(0.04</td>\n",
       "      <td>-1.27(0.20</td>\n",
       "      <td>-0.02(0.02</td>\n",
       "      <td>37.49(0.16</td>\n",
       "      <td>0.128</td>\n",
       "      <td>1.0</td>\n",
       "      <td>\\nodata</td>\n",
       "    </tr>\n",
       "    <tr>\n",
       "      <th>1992bo</th>\n",
       "      <td>0.0172</td>\n",
       "      <td>15.75(0.13</td>\n",
       "      <td>-2.68(0.18</td>\n",
       "      <td>0.03(0.02</td>\n",
       "      <td>34.65(0.20</td>\n",
       "      <td>0.128</td>\n",
       "      <td>1.0</td>\n",
       "      <td>\\nodata</td>\n",
       "    </tr>\n",
       "    <tr>\n",
       "      <th>1992bl</th>\n",
       "      <td>0.0422</td>\n",
       "      <td>17.30(0.08</td>\n",
       "      <td>-1.95(0.24</td>\n",
       "      <td>0.02(0.04</td>\n",
       "      <td>36.34(0.17</td>\n",
       "      <td>0.128</td>\n",
       "      <td>1.0</td>\n",
       "      <td>\\nodata</td>\n",
       "    </tr>\n",
       "    <tr>\n",
       "      <th>1992bh</th>\n",
       "      <td>0.0453</td>\n",
       "      <td>17.58(0.05</td>\n",
       "      <td>-0.02(0.25</td>\n",
       "      <td>0.10(0.02</td>\n",
       "      <td>36.64(0.16</td>\n",
       "      <td>0.128</td>\n",
       "      <td>1.0</td>\n",
       "      <td>\\nodata</td>\n",
       "    </tr>\n",
       "  </tbody>\n",
       "</table>\n",
       "</div>"
      ],
      "text/plain": [
       "             z          Mb     stretch       color       d_mod unknown  \\\n",
       "ID                                                                       \n",
       "1993ah  0.0285  16.86(0.19  -2.26(0.93   0.23(0.09  35.35(0.22   0.128   \n",
       "1993ag  0.0500  17.79(0.05  -1.09(0.24   0.12(0.02  36.68(0.17   0.128   \n",
       "1993o   0.0529  17.60(0.05  -1.03(0.14  -0.01(0.02  36.82(0.16   0.128   \n",
       "1993b   0.0701  18.43(0.04  -0.53(0.21   0.09(0.02  37.45(0.16   0.128   \n",
       "1992bs  0.0627  18.25(0.05  -0.27(0.23   0.02(0.02  37.48(0.16   0.128   \n",
       "1992br  0.0876  19.19(0.11  -2.97(0.38  -0.04(0.07  38.23(0.19   0.128   \n",
       "1992bp  0.0786  18.27(0.04  -1.27(0.20  -0.02(0.02  37.49(0.16   0.128   \n",
       "1992bo  0.0172  15.75(0.13  -2.68(0.18   0.03(0.02  34.65(0.20   0.128   \n",
       "1992bl  0.0422  17.30(0.08  -1.95(0.24   0.02(0.04  36.34(0.17   0.128   \n",
       "1992bh  0.0453  17.58(0.05  -0.02(0.25   0.10(0.02  36.64(0.16   0.128   \n",
       "\n",
       "        sample Cuts Failed  \n",
       "ID                          \n",
       "1993ah     1.0     \\nodata  \n",
       "1993ag     1.0     \\nodata  \n",
       "1993o      1.0     \\nodata  \n",
       "1993b      1.0     \\nodata  \n",
       "1992bs     1.0     \\nodata  \n",
       "1992br     1.0     \\nodata  \n",
       "1992bp     1.0     \\nodata  \n",
       "1992bo     1.0     \\nodata  \n",
       "1992bl     1.0     \\nodata  \n",
       "1992bh     1.0     \\nodata  "
      ]
     },
     "execution_count": 2,
     "metadata": {},
     "output_type": "execute_result"
    }
   ],
   "source": [
    "database_file = 'SCPUnion2.1_AllSNe.txt'\n",
    "SNe_df = pd.read_csv(database_file,header=None, sep=r'\\)?\\s+&\\s+', engine='python', na_filter = ['\\nodata','\\nodata\\\\'],\n",
    "                    names=['ID', 'z', 'Mb',  'stretch', 'color',\n",
    "                           'd_mod', 'unknown', 'sample', 'Cuts Failed']).set_index('ID')\n",
    "SNe_df['Cuts Failed'] = SNe_df['Cuts Failed'].str.slice(stop=-2)\n",
    "SNe_df.head(10)"
   ]
  },
  {
   "cell_type": "code",
   "execution_count": 3,
   "metadata": {},
   "outputs": [
    {
     "data": {
      "text/html": [
       "<div>\n",
       "<style scoped>\n",
       "    .dataframe tbody tr th:only-of-type {\n",
       "        vertical-align: middle;\n",
       "    }\n",
       "\n",
       "    .dataframe tbody tr th {\n",
       "        vertical-align: top;\n",
       "    }\n",
       "\n",
       "    .dataframe thead th {\n",
       "        text-align: right;\n",
       "    }\n",
       "</style>\n",
       "<table border=\"1\" class=\"dataframe\">\n",
       "  <thead>\n",
       "    <tr style=\"text-align: right;\">\n",
       "      <th></th>\n",
       "      <th>z</th>\n",
       "      <th>Mb</th>\n",
       "      <th>err_Mb</th>\n",
       "      <th>color</th>\n",
       "      <th>err_color</th>\n",
       "      <th>d_mod</th>\n",
       "      <th>err_d_mod</th>\n",
       "    </tr>\n",
       "    <tr>\n",
       "      <th>ID</th>\n",
       "      <th></th>\n",
       "      <th></th>\n",
       "      <th></th>\n",
       "      <th></th>\n",
       "      <th></th>\n",
       "      <th></th>\n",
       "      <th></th>\n",
       "    </tr>\n",
       "  </thead>\n",
       "  <tbody>\n",
       "    <tr>\n",
       "      <th>1993ah</th>\n",
       "      <td>0.0285</td>\n",
       "      <td>16.86</td>\n",
       "      <td>0.19</td>\n",
       "      <td>0.23</td>\n",
       "      <td>0.09</td>\n",
       "      <td>35.35</td>\n",
       "      <td>0.22</td>\n",
       "    </tr>\n",
       "    <tr>\n",
       "      <th>1993ag</th>\n",
       "      <td>0.0500</td>\n",
       "      <td>17.79</td>\n",
       "      <td>0.05</td>\n",
       "      <td>0.12</td>\n",
       "      <td>0.02</td>\n",
       "      <td>36.68</td>\n",
       "      <td>0.17</td>\n",
       "    </tr>\n",
       "    <tr>\n",
       "      <th>1993o</th>\n",
       "      <td>0.0529</td>\n",
       "      <td>17.60</td>\n",
       "      <td>0.05</td>\n",
       "      <td>-0.01</td>\n",
       "      <td>0.02</td>\n",
       "      <td>36.82</td>\n",
       "      <td>0.16</td>\n",
       "    </tr>\n",
       "    <tr>\n",
       "      <th>1993b</th>\n",
       "      <td>0.0701</td>\n",
       "      <td>18.43</td>\n",
       "      <td>0.04</td>\n",
       "      <td>0.09</td>\n",
       "      <td>0.02</td>\n",
       "      <td>37.45</td>\n",
       "      <td>0.16</td>\n",
       "    </tr>\n",
       "    <tr>\n",
       "      <th>1992bs</th>\n",
       "      <td>0.0627</td>\n",
       "      <td>18.25</td>\n",
       "      <td>0.05</td>\n",
       "      <td>0.02</td>\n",
       "      <td>0.02</td>\n",
       "      <td>37.48</td>\n",
       "      <td>0.16</td>\n",
       "    </tr>\n",
       "  </tbody>\n",
       "</table>\n",
       "</div>"
      ],
      "text/plain": [
       "             z     Mb  err_Mb  color  err_color  d_mod  err_d_mod\n",
       "ID                                                               \n",
       "1993ah  0.0285  16.86    0.19   0.23       0.09  35.35       0.22\n",
       "1993ag  0.0500  17.79    0.05   0.12       0.02  36.68       0.17\n",
       "1993o   0.0529  17.60    0.05  -0.01       0.02  36.82       0.16\n",
       "1993b   0.0701  18.43    0.04   0.09       0.02  37.45       0.16\n",
       "1992bs  0.0627  18.25    0.05   0.02       0.02  37.48       0.16"
      ]
     },
     "execution_count": 3,
     "metadata": {},
     "output_type": "execute_result"
    }
   ],
   "source": [
    "def split_errors(df,name):\n",
    "    #print df.loc[df[name]==na][name]\n",
    "    mask = df[name].str.slice(start=-6)=='nodata'\n",
    "    df.loc[mask, name] = 'NaN(NaN'\n",
    "    split_df = df[name].str.split('(',expand=True)\n",
    "    df[name] = split_df[0].astype(float)\n",
    "    df['err_{}'.format(name)] = split_df[1].astype(float)\n",
    "split_errors(SNe_df,'Mb')\n",
    "split_errors(SNe_df,'stretch')\n",
    "split_errors(SNe_df,'color')\n",
    "split_errors(SNe_df,'d_mod')\n",
    "nice_columns = ['z', 'Mb', 'err_Mb',  'color', 'err_color',\n",
    "                           'd_mod', 'err_d_mod']\n",
    "SNe_df = SNe_df[nice_columns]\n",
    "SNe_df.head()"
   ]
  },
  {
   "cell_type": "code",
   "execution_count": null,
   "metadata": {
    "collapsed": true
   },
   "outputs": [],
   "source": []
  },
  {
   "cell_type": "code",
   "execution_count": 4,
   "metadata": {},
   "outputs": [
    {
     "name": "stdout",
     "output_type": "stream",
     "text": [
      "The fitted parameters are:\n",
      "\tH0=69.5339599448(0.38431218433)\n",
      "\tOm=0.28853943124(0.195593441238)\n",
      "\tOk=0.00632680763971\n",
      "\tOde=0.705133761121(0.178658693455)\n"
     ]
    },
    {
     "data": {
      "text/plain": [
       "[<matplotlib.lines.Line2D at 0xba03dd8>]"
      ]
     },
     "execution_count": 4,
     "metadata": {},
     "output_type": "execute_result"
    },
    {
     "data": {
      "image/png": "[encoded data removed]",
      "text/plain": [
       "<Figure size 432x288 with 1 Axes>"
      ]
     },
     "metadata": {},
     "output_type": "display_data"
    }
   ],
   "source": [
    "# fit directly with curve fit\n",
    "def Hz_flatLCDM(z,*args):\n",
    "    H0,Om,Ode = args\n",
    "    Ok = 1-Om-Ode\n",
    "    Hz = H0*np.sqrt(Om*(1+z)**3+Ok*(1+z)**2+Ode)\n",
    "    return Hz\n",
    "\n",
    "def chi(zvec,Hz_fun,args):\n",
    "    chi = const.c/1000*np.array([pyint.quad(lambda zz: 1./Hz_fun(zz,*args),0,z)[0] for z in zvec])\n",
    "    return chi\n",
    "\n",
    "def dist_lum(z,Hz_fun,args):\n",
    "    return chi(z,Hz_fun,args)*(1+z)\n",
    "\n",
    "def dist_mod(z,Hz_fun,args):\n",
    "    D_L = dist_lum(z,Hz_fun,args)\n",
    "    return 5*np.log10(D_L)+25\n",
    "\n",
    "def fit_d_mod(z,Hz_fun,args):\n",
    "    return dist_mod(z,Hz_fun,args[:-1])-args[-1]*(1-sum(args))\n",
    "    \n",
    "z_grid = np.linspace(1e-4,1.4,100)\n",
    "mask = np.isfinite(SNe_df['z']) & np.isfinite(SNe_df['d_mod'])\n",
    "cosmo_params = [73.8,.3,0.7]\n",
    "\n",
    "res = opt.curve_fit(lambda z,*p: dist_mod(z,Hz_flatLCDM,p),\n",
    "                    xdata=SNe_df[mask]['z'],\n",
    "                    ydata=SNe_df[mask]['d_mod'],\n",
    "                    sigma = SNe_df[mask]['err_d_mod'], absolute_sigma=True,\n",
    "                    p0=cosmo_params)\n",
    "res_err = np.sqrt(np.diag(res[1]))\n",
    "H0,Om,Ode = res[0]\n",
    "print 'The fitted parameters are:\\n\\tH0={1}({4})\\n\\tOm={2}({5})\\\n",
    "\\n\\tOk={0}\\n\\tOde={3}({6})'.format(1-sum(res[0][1:]),*np.append(res[0],res_err))\n",
    "plt.errorbar(SNe_df['z'],SNe_df['d_mod'],yerr=SNe_df['err_d_mod'],fmt='_')\n",
    "plt.plot(z_grid,dist_mod(z_grid,Hz_flatLCDM,cosmo_params))"
   ]
  },
  {
   "cell_type": "code",
   "execution_count": 5,
   "metadata": {},
   "outputs": [
    {
     "data": {
      "text/plain": [
       "\"\\n# fith with chi square minimization\\ndef chi2(zdata,dmoddata,dmod_err,Hz_fun,args):\\n    square = (dmoddata-dist_mod(zdata,Hz_fun,args))**2\\n    return sum(square/dmod_err**2)\\n\\nfit_chi2 = lambda cosmo: chi2(SNe_df[mask]['z'],SNe_df[mask]['d_mod'],SNe_df[mask]['err_d_mod'],Hz_flatLCDM,cosmo)\\nprint fit_chi2(cosmo_params)\\nres = opt.minimize(fit_chi2,\\n                   x0=cosmo_params)\\nprint res\\n\""
      ]
     },
     "execution_count": 5,
     "metadata": {},
     "output_type": "execute_result"
    }
   ],
   "source": [
    "'''\n",
    "# fith with chi square minimization\n",
    "def chi2(zdata,dmoddata,dmod_err,Hz_fun,args):\n",
    "    square = (dmoddata-dist_mod(zdata,Hz_fun,args))**2\n",
    "    return sum(square/dmod_err**2)\n",
    "\n",
    "fit_chi2 = lambda cosmo: chi2(SNe_df[mask]['z'],SNe_df[mask]['d_mod'],SNe_df[mask]['err_d_mod'],Hz_flatLCDM,cosmo)\n",
    "print fit_chi2(cosmo_params)\n",
    "res = opt.minimize(fit_chi2,\n",
    "                   x0=cosmo_params)\n",
    "print res\n",
    "'''"
   ]
  },
  {
   "cell_type": "code",
   "execution_count": 6,
   "metadata": {},
   "outputs": [
    {
     "name": "stdout",
     "output_type": "stream",
     "text": [
      "The deceleration parameter is -0.560864045501, thus, the expansion of the universe is accelerated\n"
     ]
    }
   ],
   "source": [
    "# using equation 3.48 of the cosmology notes\n",
    "q0 = Om/2-Ode\n",
    "print 'The deceleration parameter is {}, thus, the expansion of the universe is accelerated'.format(q0)"
   ]
  },
  {
   "cell_type": "code",
   "execution_count": 7,
   "metadata": {},
   "outputs": [
    {
     "name": "stdout",
     "output_type": "stream",
     "text": [
      "17.920597332791996\n",
      "66.40357366489609 153.49935226910475\n",
      "18.43037462945379\n"
     ]
    },
    {
     "data": {
      "image/png": "[encoded data removed]",
      "text/plain": [
       "<Figure size 432x288 with 1 Axes>"
      ]
     },
     "metadata": {},
     "output_type": "display_data"
    }
   ],
   "source": [
    "# calculate H0\n",
    "z_cut = 0.03\n",
    "H0_mask = (SNe_df['z']<z_cut) & mask\n",
    "v_SNe = const.c/1000.*SNe_df[H0_mask]['z']\n",
    "dL_SNe = 10**((SNe_df[H0_mask]['d_mod']-25+2.5*np.log10(1+SNe_df[H0_mask]['z']))/5)\n",
    "dL_max = 120\n",
    "v_SNe=v_SNe[dL_SNe<dL_max]\n",
    "dL_SNe=dL_SNe[dL_SNe<dL_max]\n",
    "H0_fit, intercept, r, p, err = stat.linregress(dL_SNe,v_SNe)\n",
    "H0_curvefit = opt.curve_fit(lambda d,H: H*d, dL_SNe, v_SNe, p0=H0)[0][0]\n",
    "print 1/H0_curvefit*1e6*3.86e13/3.154e7/1e9\n",
    "print H0_fit,intercept\n",
    "dL_grid = np.linspace(10,100)\n",
    "plt.plot(dL_SNe,v_SNe,'.')\n",
    "plt.plot(dL_grid,dL_grid*H0_fit+intercept)\n",
    "plt.plot(dL_grid,dL_grid*H0_curvefit)\n",
    "plt.xlabel('$d_L$ (Mpc)')\n",
    "plt.ylabel('v (km/s)')\n",
    "age_universe_Gyr = 1/H0_fit*1e6*3.86e13/3.154e7/1e9\n",
    "print age_universe_Gyr"
   ]
  },
  {
   "cell_type": "code",
   "execution_count": 8,
   "metadata": {
    "collapsed": true
   },
   "outputs": [],
   "source": [
    "# calculate w\n",
    "def Hz_w_cte(z,*args):\n",
    "    H0,Om,Ode,w = args\n",
    "    Ok = 1-Om-Ode\n",
    "    Hz = H0*np.sqrt(Om*(1+z)**3+Ok*(1+z)**2+Ode*np.exp(3*(1+w)*np.log(1+z)))\n",
    "    return Hz\n",
    "\n",
    "res = opt.curve_fit(lambda z,*p: dist_mod(z,Hz_w_cte,p),\n",
    "                    xdata=SNe_df[mask]['z'],\n",
    "                    ydata=SNe_df[mask]['d_mod'],\n",
    "                    sigma = SNe_df[mask]['err_d_mod'], absolute_sigma=True,\n",
    "                    p0=cosmo_params+[-1])"
   ]
  },
  {
   "cell_type": "code",
   "execution_count": 9,
   "metadata": {},
   "outputs": [
    {
     "name": "stdout",
     "output_type": "stream",
     "text": [
      "[ 6.96445828e+01  3.65399237e-02  3.22662795e-01 -1.68827573e+00] [0.52011261 0.4822724  0.5129201  2.16229683]\n"
     ]
    }
   ],
   "source": [
    "print res[0],np.sqrt(np.diag(res[1]))"
   ]
  },
  {
   "cell_type": "code",
   "execution_count": null,
   "metadata": {
    "collapsed": true
   },
   "outputs": [],
   "source": []
  }
 ],
 "metadata": {
  "kernelspec": {
   "display_name": "Python 2",
   "language": "python",
   "name": "python2"
  },
  "language_info": {
   "codemirror_mode": {
    "name": "ipython",
    "version": 2
   },
   "file_extension": ".py",
   "mimetype": "text/x-python",
   "name": "python",
   "nbconvert_exporter": "python",
   "pygments_lexer": "ipython2",
   "version": "2.7.14"
  }
 },
 "nbformat": 4,
 "nbformat_minor": 2
}
