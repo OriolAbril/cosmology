{
 "cells": [
  {
   "cell_type": "markdown",
   "metadata": {},
   "source": [
    "# Cosmology project: Measuring Cosmic acceleration with Type Ia Supernovaes"
   ]
  },
  {
   "cell_type": "markdown",
   "metadata": {},
   "source": [
    "Authors: Oriol Abril Pla, Mariona Badenas Agusti\n",
    "\n",
    "April 2018"
   ]
  },
  {
   "cell_type": "code",
   "execution_count": 1,
   "metadata": {},
   "outputs": [],
   "source": [
    "%matplotlib inline\n",
    "%config IPython.matplotlib.backend = \"retina\"\n",
    "\n",
    "import pandas as pd\n",
    "import matplotlib.pyplot as plt\n",
    "\n",
    "import scipy.optimize as opt\n",
    "import scipy.integrate as pyint\n",
    "import scipy.constants as const\n",
    "import scipy.stats as stat\n",
    "import numpy as np\n",
    "import numpy.linalg as linalg\n",
    "\n",
    "import astropy.modeling.models as amod\n",
    "import astropy.modeling.fitting as afit\n",
    "\n",
    "from matplotlib import rcParams\n",
    "rcParams['figure.figsize'] = 10, 7\n",
    "#rcParams['figure.figsize'] = 5.5, 3.2\n",
    "rcParams[\"figure.dpi\"] = 150\n",
    "rcParams[\"savefig.dpi\"] = 150"
   ]
  },
  {
   "cell_type": "markdown",
   "metadata": {},
   "source": [
    "#### Load the data\n",
    "Load the sample from Union2 SNe and select only the desired coordinates."
   ]
  },
  {
   "cell_type": "code",
   "execution_count": 2,
   "metadata": {},
   "outputs": [
    {
     "name": "stdout",
     "output_type": "stream",
     "text": [
      "<class 'pandas.core.frame.DataFrame'>\n",
      "Index: 753 entries, 1993ah to X-026\n",
      "Data columns (total 8 columns):\n",
      "z              753 non-null float64\n",
      "mb             753 non-null object\n",
      "x1             753 non-null object\n",
      "color          753 non-null object\n",
      "d_mod          753 non-null object\n",
      "unknown        753 non-null object\n",
      "sample         753 non-null float64\n",
      "Cuts Failed    753 non-null object\n",
      "dtypes: float64(2), object(6)\n",
      "memory usage: 52.9+ KB\n",
      "<class 'pandas.core.frame.DataFrame'>\n",
      "Index: 580 entries, 1993ah to Z-005\n",
      "Data columns (total 8 columns):\n",
      "z              580 non-null float64\n",
      "mb             580 non-null object\n",
      "x1             580 non-null object\n",
      "color          580 non-null object\n",
      "d_mod          580 non-null object\n",
      "unknown        580 non-null object\n",
      "sample         580 non-null float64\n",
      "Cuts Failed    580 non-null object\n",
      "dtypes: float64(2), object(6)\n",
      "memory usage: 40.8+ KB\n"
     ]
    }
   ],
   "source": [
    "database_file = 'SCPUnion2.1_AllSNe.txt'\n",
    "SNe_df = pd.read_csv(database_file,header=None, sep=r'\\)?\\s+&\\s+', engine='python', na_filter = ['\\nodata','\\nodata\\\\'],\n",
    "                    names=['ID', 'z', 'mb',  'x1', 'color',\n",
    "                           'd_mod', 'unknown', 'sample', 'Cuts Failed']).set_index('ID')\n",
    "SNe_df['Cuts Failed'] = SNe_df['Cuts Failed'].str.slice(stop=-2)\n",
    "SNe_df.info()\n",
    "SNe_df = SNe_df[SNe_df['Cuts Failed']=='\\\\nodata']\n",
    "SNe_df.info()"
   ]
  },
  {
   "cell_type": "code",
   "execution_count": 3,
   "metadata": {},
   "outputs": [
    {
     "data": {
      "text/html": [
       "<div>\n",
       "<style scoped>\n",
       "    .dataframe tbody tr th:only-of-type {\n",
       "        vertical-align: middle;\n",
       "    }\n",
       "\n",
       "    .dataframe tbody tr th {\n",
       "        vertical-align: top;\n",
       "    }\n",
       "\n",
       "    .dataframe thead th {\n",
       "        text-align: right;\n",
       "    }\n",
       "</style>\n",
       "<table border=\"1\" class=\"dataframe\">\n",
       "  <thead>\n",
       "    <tr style=\"text-align: right;\">\n",
       "      <th></th>\n",
       "      <th>z</th>\n",
       "      <th>mb</th>\n",
       "      <th>err_mb</th>\n",
       "      <th>color</th>\n",
       "      <th>err_color</th>\n",
       "      <th>d_mod</th>\n",
       "      <th>err_d_mod</th>\n",
       "      <th>x1</th>\n",
       "      <th>err_x1</th>\n",
       "    </tr>\n",
       "    <tr>\n",
       "      <th>ID</th>\n",
       "      <th></th>\n",
       "      <th></th>\n",
       "      <th></th>\n",
       "      <th></th>\n",
       "      <th></th>\n",
       "      <th></th>\n",
       "      <th></th>\n",
       "      <th></th>\n",
       "      <th></th>\n",
       "    </tr>\n",
       "  </thead>\n",
       "  <tbody>\n",
       "    <tr>\n",
       "      <th>1993ah</th>\n",
       "      <td>0.0285</td>\n",
       "      <td>16.86</td>\n",
       "      <td>0.19</td>\n",
       "      <td>0.23</td>\n",
       "      <td>0.09</td>\n",
       "      <td>35.35</td>\n",
       "      <td>0.22</td>\n",
       "      <td>-2.26</td>\n",
       "      <td>0.93</td>\n",
       "    </tr>\n",
       "    <tr>\n",
       "      <th>1993ag</th>\n",
       "      <td>0.0500</td>\n",
       "      <td>17.79</td>\n",
       "      <td>0.05</td>\n",
       "      <td>0.12</td>\n",
       "      <td>0.02</td>\n",
       "      <td>36.68</td>\n",
       "      <td>0.17</td>\n",
       "      <td>-1.09</td>\n",
       "      <td>0.24</td>\n",
       "    </tr>\n",
       "    <tr>\n",
       "      <th>1993o</th>\n",
       "      <td>0.0529</td>\n",
       "      <td>17.60</td>\n",
       "      <td>0.05</td>\n",
       "      <td>-0.01</td>\n",
       "      <td>0.02</td>\n",
       "      <td>36.82</td>\n",
       "      <td>0.16</td>\n",
       "      <td>-1.03</td>\n",
       "      <td>0.14</td>\n",
       "    </tr>\n",
       "    <tr>\n",
       "      <th>1993b</th>\n",
       "      <td>0.0701</td>\n",
       "      <td>18.43</td>\n",
       "      <td>0.04</td>\n",
       "      <td>0.09</td>\n",
       "      <td>0.02</td>\n",
       "      <td>37.45</td>\n",
       "      <td>0.16</td>\n",
       "      <td>-0.53</td>\n",
       "      <td>0.21</td>\n",
       "    </tr>\n",
       "    <tr>\n",
       "      <th>1992bs</th>\n",
       "      <td>0.0627</td>\n",
       "      <td>18.25</td>\n",
       "      <td>0.05</td>\n",
       "      <td>0.02</td>\n",
       "      <td>0.02</td>\n",
       "      <td>37.48</td>\n",
       "      <td>0.16</td>\n",
       "      <td>-0.27</td>\n",
       "      <td>0.23</td>\n",
       "    </tr>\n",
       "  </tbody>\n",
       "</table>\n",
       "</div>"
      ],
      "text/plain": [
       "             z     mb  err_mb  color  err_color  d_mod  err_d_mod    x1  \\\n",
       "ID                                                                        \n",
       "1993ah  0.0285  16.86    0.19   0.23       0.09  35.35       0.22 -2.26   \n",
       "1993ag  0.0500  17.79    0.05   0.12       0.02  36.68       0.17 -1.09   \n",
       "1993o   0.0529  17.60    0.05  -0.01       0.02  36.82       0.16 -1.03   \n",
       "1993b   0.0701  18.43    0.04   0.09       0.02  37.45       0.16 -0.53   \n",
       "1992bs  0.0627  18.25    0.05   0.02       0.02  37.48       0.16 -0.27   \n",
       "\n",
       "        err_x1  \n",
       "ID              \n",
       "1993ah    0.93  \n",
       "1993ag    0.24  \n",
       "1993o     0.14  \n",
       "1993b     0.21  \n",
       "1992bs    0.23  "
      ]
     },
     "execution_count": 3,
     "metadata": {},
     "output_type": "execute_result"
    }
   ],
   "source": [
    "def split_errors(df,name):\n",
    "    #print df.loc[df[name]==na][name]\n",
    "    mask = df[name].str.slice(start=-6)=='nodata'\n",
    "    df.loc[mask, name] = 'NaN(NaN'\n",
    "    split_df = df[name].str.split('(',expand=True)\n",
    "    df[name] = split_df[0].astype(float)\n",
    "    df['err_{}'.format(name)] = split_df[1].astype(float)\n",
    "split_errors(SNe_df,'mb')\n",
    "split_errors(SNe_df,'x1')\n",
    "split_errors(SNe_df,'color')\n",
    "split_errors(SNe_df,'d_mod')\n",
    "nice_columns = ['z', 'mb', 'err_mb',  'color', 'err_color',\n",
    "                           'd_mod', 'err_d_mod', 'x1', 'err_x1']\n",
    "SNe_df = SNe_df[nice_columns]\n",
    "SNe_df.head()"
   ]
  },
  {
   "cell_type": "markdown",
   "metadata": {},
   "source": [
    "#### Load covariance matrixes"
   ]
  },
  {
   "cell_type": "code",
   "execution_count": 4,
   "metadata": {},
   "outputs": [],
   "source": [
    "C_sys = np.loadtxt('SCPUnion2.1_covmat_sys.txt')\n",
    "Cinv_sys = linalg.inv(C_sys)\n",
    "C_nosys = np.loadtxt('SCPUnion2.1_covmat_nosys.txt')\n",
    "sigma_ext2 = np.diag(C_nosys)"
   ]
  },
  {
   "cell_type": "markdown",
   "metadata": {},
   "source": [
    "## Define cosmological functions"
   ]
  },
  {
   "cell_type": "code",
   "execution_count": 18,
   "metadata": {},
   "outputs": [],
   "source": [
    "def chi(zvec,Hz_fun,args):\n",
    "    chi = const.c/1000*np.array([pyint.quad(lambda zz: 1./Hz_fun(zz,*args),0,z)[0] for z in zvec])\n",
    "    return chi\n",
    "\n",
    "def dist_lum(z,Hz_fun,args):\n",
    "    return chi(z,Hz_fun,args)*(1+z)\n",
    "\n",
    "def dist_mod(z,Hz_fun,args):\n",
    "    D_L = dist_lum(z,Hz_fun,args)\n",
    "    return 5*np.log10(D_L)+25\n",
    "\n",
    "def Hz_flatLCDM(z,Ode,H0=73.8):\n",
    "    '''\n",
    "    Flat Lambda-CDM model with H0 from Riess 2016 and k=0 fixed\n",
    "    '''\n",
    "    Om = 1-Ode\n",
    "    Hz = H0*np.sqrt(Om*(1+z)**3+Ode)\n",
    "    return Hz\n",
    "\n",
    "def Hz_curvedLCDM(z,Om,Ode,H0=73.8):\n",
    "    '''\n",
    "    Curved Lambda-CDM model with H0 from Riess 2016 and k not fixed\n",
    "    '''\n",
    "    Ok = 1-Om-Ode\n",
    "    Hz = H0*np.sqrt(Om*(1+z)**3+Ok*(1+z)**2+Ode)\n",
    "    return Hz\n",
    "\n",
    "def Hz_w_cte(z,Ode,w,H0=73.8):\n",
    "    Om = 1-Ode\n",
    "    Hz = H0*np.sqrt(Om*(1+z)**3+Ode*np.exp(3*(1+w)*np.log(1+z)))\n",
    "    return Hz"
   ]
  },
  {
   "cell_type": "markdown",
   "metadata": {},
   "source": [
    "### Plot Hubble diagram"
   ]
  },
  {
   "cell_type": "code",
   "execution_count": 20,
   "metadata": {},
   "outputs": [
    {
     "data": {
      "text/plain": [
       "Text(0,0.5,'Distance modulus')"
      ]
     },
     "execution_count": 20,
     "metadata": {},
     "output_type": "execute_result"
    },
    {
     "data": {
      "image/png": "[encoded data removed]",
      "text/plain": [
       "<Figure size 432x288 with 1 Axes>"
      ]
     },
     "metadata": {},
     "output_type": "display_data"
    }
   ],
   "source": [
    "z_grid = np.linspace(1e-2,1.4,100)\n",
    "plt.errorbar(SNe_df['z'],SNe_df['d_mod'],yerr=SNe_df['err_d_mod'],fmt='_')\n",
    "plt.plot(z_grid,dist_mod(z_grid,Hz_flatLCDM,(0.7,)))\n",
    "plt.xlabel('z'); plt.ylabel('Distance modulus')"
   ]
  },
  {
   "cell_type": "markdown",
   "metadata": {},
   "source": [
    "#### Hubble diagram (+ zoom to linear)\n",
    "Show that data does not allow propper $H_0$ calculation. The procedure to try $H_0$ calculation is to filter the SNe sample to get the low redshift subset, and make a linear fit to it. The slope will be an aproximation of $H_0$"
   ]
  },
  {
   "cell_type": "code",
   "execution_count": 11,
   "metadata": {},
   "outputs": [],
   "source": [
    "# Convert z to v and d_mod to distance luminosity\n",
    "v_SNe = const.c/1000.*SNe_df['z']\n",
    "dL_SNe = 10**((SNe_df['d_mod']-25+2.5*np.log10(1+SNe_df['z']))/5)\n",
    "# Select only low redshift/distance data\n",
    "dL_max = 120\n",
    "v_SNe=v_SNe[dL_SNe<dL_max]\n",
    "dL_SNe=dL_SNe[dL_SNe<dL_max]\n",
    "# fit both with an intercept and forcing v = H*dL\n",
    "H0_fit, intercept, r, p, err = stat.linregress(dL_SNe,v_SNe)\n",
    "H0_curvefit = opt.curve_fit(lambda d,H: H*d, dL_SNe, v_SNe, p0=70)[0][0]"
   ]
  },
  {
   "cell_type": "code",
   "execution_count": 12,
   "metadata": {},
   "outputs": [
    {
     "name": "stdout",
     "output_type": "stream",
     "text": [
      "The value of H0 forcing v(z=0)=0 is H0 = 68.2734485943133 km/s/Mpc,\n",
      "which means an aproximate age of the universe of 17.92560306497399 Myr\n",
      "\n",
      "The value of H0 NOT forcing v(z=0) is H0 = 61.27311285385366 km/s/Mpc with v(z=0) = 646.8468011535961 km/s,\n",
      "which means an aproximate age of the universe of 19.973568868577498 Myr\n"
     ]
    }
   ],
   "source": [
    "age_fit = 1/H0_fit*1e6*3.86e13/3.154e7/1e9\n",
    "age_curvefit = 1/H0_curvefit*1e6*3.86e13/3.154e7/1e9\n",
    "print('The value of H0 forcing v(z=0)=0 is H0 = {} km/s/Mpc,\\nwhich means \\\n",
    "an aproximate age of the universe of {} Myr'.format(H0_curvefit,age_curvefit))\n",
    "print('\\nThe value of H0 NOT forcing v(z=0) is H0 = {0} km/s/Mpc with v(z=0) = {1} km/s,\\n\\\n",
    "which means an aproximate age of the universe of {2} Myr'.format(H0_fit,intercept,age_fit))"
   ]
  },
  {
   "cell_type": "code",
   "execution_count": 27,
   "metadata": {
    "scrolled": false
   },
   "outputs": [
    {
     "data": {
      "text/plain": [
       "<matplotlib.legend.Legend at 0x7fb12638b748>"
      ]
     },
     "execution_count": 27,
     "metadata": {},
     "output_type": "execute_result"
    },
    {
     "data": {
      "image/png": "[encoded data removed]",
      "text/plain": [
       "<Figure size 432x288 with 2 Axes>"
      ]
     },
     "metadata": {},
     "output_type": "display_data"
    }
   ],
   "source": [
    "fig = plt.figure(); ax = fig.add_subplot(111)\n",
    "ax.errorbar(SNe_df['z'],SNe_df['d_mod'],yerr=SNe_df['err_d_mod'],fmt='_',label='Data')\n",
    "ax.plot(z_grid,dist_mod(z_grid,Hz_flatLCDM,(0.7,)),label='flat$\\Lambda CDM$')\n",
    "ax.set_xlabel('z'); ax.set_ylabel('Distance modulus')\n",
    "ax.legend()\n",
    "\n",
    "dL_grid = np.linspace(10,120)\n",
    "zoom_ax = fig.add_axes([.45,.25,.4,.35])\n",
    "zoom_ax.plot(dL_SNe,v_SNe,'.',label='Data')\n",
    "zoom_ax.plot(dL_grid,dL_grid*H0_fit+intercept,label=r'$m\\neq 0$')\n",
    "zoom_ax.plot(dL_grid,dL_grid*H0_curvefit,label='$m= 0$')\n",
    "zoom_ax.set_xlabel('$d_L$ (Mpc)'); zoom_ax.set_ylabel('v (km/s)')\n",
    "zoom_ax.tick_params(direction='in')\n",
    "zoom_ax.legend(handlelength=1)"
   ]
  },
  {
   "cell_type": "markdown",
   "metadata": {},
   "source": [
    "## Find cosmological parameters \n",
    "### Flat universe and w=0\n",
    "[2018-04-05] The fit is performed directly with `scipy.optimize.curve_fit`, because it already allows to weight the values with its error. However, one method of our own or from github or comething could be implemented.\n",
    "\n",
    "[2018-04-10] The fitting is now done with `astropy.modelling`."
   ]
  },
  {
   "cell_type": "markdown",
   "metadata": {},
   "source": [
    "#### Standard fit"
   ]
  },
  {
   "cell_type": "code",
   "execution_count": 28,
   "metadata": {},
   "outputs": [],
   "source": [
    "# Create astropy model\n",
    "flatLCDM_aModel = amod.custom_model(lambda z,Ode=.7 : dist_mod(z,Hz_flatLCDM,(Ode,)))\n",
    " \n",
    "init_flatLCDM = flatLCDM_aModel()\n",
    "fit_flatLCDM = afit.LevMarLSQFitter()\n",
    "flatLCDM_result = fit_flatLCDM(init_flatLCDM,\n",
    "                               SNe_df['z'],\n",
    "                               SNe_df['d_mod'],\n",
    "                               weights=SNe_df['err_d_mod'])\n",
    "flatLCDM_Ode_err = np.sqrt(np.diag(fit_flatLCDM.fit_info['param_cov']))[0]\n",
    "Ode = flatLCDM_result.Ode.value\n",
    "Om = 1-Ode"
   ]
  },
  {
   "cell_type": "code",
   "execution_count": 29,
   "metadata": {},
   "outputs": [
    {
     "name": "stdout",
     "output_type": "stream",
     "text": [
      "The fitted values are:\n",
      "\tOde : 0.918(0.02)\n"
     ]
    }
   ],
   "source": [
    "print('The fitted values are:\\n\\tOde : {:.3f}({:.2f})'.format(Ode,flatLCDM_Ode_err))"
   ]
  },
  {
   "cell_type": "code",
   "execution_count": null,
   "metadata": {},
   "outputs": [],
   "source": [
    "# using equation 3.48 of the cosmology notes\n",
    "q0_std = (1-Ode)/2-Ode\n",
    "print('The deceleration parameter is {}, thus, the expansion of the universe is accelerated'.format(q0_std))"
   ]
  },
  {
   "cell_type": "markdown",
   "metadata": {},
   "source": [
    "#### Show standard fit $\\chi^2$ \n",
    "Show the obtained $\\chi^2$ for the standard fit to show it is not a problem of the minimizer"
   ]
  },
  {
   "cell_type": "code",
   "execution_count": 32,
   "metadata": {},
   "outputs": [],
   "source": [
    "Ode_grid = np.linspace(0,1,200)\n",
    "Ode_chi_73 = [sum((SNe_df['d_mod']-dist_mod(SNe_df['z'],Hz_flatLCDM,(Ode,73.8)))**2/SNe_df['err_d_mod']) \n",
    "           for Ode in Ode_grid]\n",
    "Ode_chi_69 = [sum((SNe_df['d_mod']-dist_mod(SNe_df['z'],Hz_flatLCDM,(Ode,69)))**2/SNe_df['err_d_mod']) \n",
    "           for Ode in Ode_grid]"
   ]
  },
  {
   "cell_type": "code",
   "execution_count": 9,
   "metadata": {},
   "outputs": [
    {
     "data": {
      "image/png": "[encoded data removed]",
      "text/plain": [
       "<Figure size 432x288 with 1 Axes>"
      ]
     },
     "metadata": {},
     "output_type": "display_data"
    }
   ],
   "source": [
    "plt.plot(Ode_grid,Ode_chi_73,label=r'$H_0=73.8$ (from Riess 2011)')\n",
    "plt.plot(Ode_grid,Ode_chi_69,label=r'$H_0=69$')\n",
    "plt.xlabel(r'$\\Omega_\\Lambda$'); plt.ylabel(r'$\\chi^2$')\n",
    "plt.legend()\n",
    "ind_73 = np.argmin(Ode_chi_73)\n",
    "plt.plot(Ode_grid[ind_73],Ode_chi_73[ind_73],'ro')\n",
    "plt.text(Ode_grid[ind_73],Ode_chi_73[ind_73]-20,'Ode={:.2f}'.format(Ode_grid[ind_73]))\n",
    "ind_69 = np.argmin(Ode_chi_69)\n",
    "plt.plot(Ode_grid[ind_69],Ode_chi_69[ind_69],'ro')\n",
    "plt.text(Ode_grid[ind_69]-.05,Ode_chi_69[ind_69]-20,'Ode={:.2f}'.format(Ode_grid[ind_69]))\n",
    "plt.savefig('chi2_Ode.png')"
   ]
  },
  {
   "cell_type": "markdown",
   "metadata": {},
   "source": [
    "#### $\\chi^2$ fitting\n",
    "Fit with the $\\chi^2$, for some combinations of C and sigmas"
   ]
  },
  {
   "cell_type": "code",
   "execution_count": 40,
   "metadata": {},
   "outputs": [],
   "source": [
    "def chi2_nosys_flatLCDM(x,data=SNe_df,sigma_ext2=sigma_ext2):\n",
    "    alfa,beta,Mb,Ode = x\n",
    "    Om = 1-Ode\n",
    "    mu_B = data['mb']+alfa*data['x1']-beta*data['color']-Mb\n",
    "    mu_cosmo = dist_mod(data['z'],Hz_flatLCDM,(Ode,))\n",
    "    sigma2_lc = data['err_mb']**2+alfa**2*data['err_x1']**2+beta**2*data['err_color']**2\n",
    "    return np.sum((mu_B-mu_cosmo)**2/(sigma2_lc+sigma_ext2))\n",
    "\n",
    "def chi2_sys_flatLCDM(x,data=SNe_df,Csys=C_sys, Cext = C_nosys, Cinv_sys=Cinv_sys, mode='sys+lc'):\n",
    "    alfa,beta,Mb,Ode = x\n",
    "    Om = 1-Ode\n",
    "    mu_B = data['mb']+alfa*data['x1']-beta*data['color']-Mb\n",
    "    mu_cosmo = dist_mod(data['z'],Hz_flatLCDM,(Ode,))\n",
    "    mu_diff = (mu_B-mu_cosmo)**2\n",
    "    sigma2_lc = data['err_mb']**2+alfa**2*data['err_x1']**2+beta**2*data['err_color']**2\n",
    "    Cinv = Cinv_sys if mode=='sys' else linalg.inv(np.diag(sigma2_lc)+Csys)\n",
    "    #Cinv_2 = linalg.inv(Csys)\n",
    "    #Cinv_3 = linalg.inv(np.diag(sigma2_lc)+Csys+Cext)\n",
    "    res = np.matmul(mu_diff,np.matmul(Cinv,mu_diff))\n",
    "    return res"
   ]
  },
  {
   "cell_type": "code",
   "execution_count": 64,
   "metadata": {},
   "outputs": [],
   "source": [
    "Ode_chi_ext_lc = [chi2_nosys_flatLCDM([.121,2.47,-19.32,Ode]) for Ode in Ode_grid]\n",
    "Ode_chi_sys = [chi2_sys_flatLCDM([.121,2.47,-19.32,Ode],mode='sys') for Ode in Ode_grid] \n",
    "Ode_chi_sys_lc = [chi2_sys_flatLCDM([.121,2.47,-19.32,Ode]) for Ode in Ode_grid]"
   ]
  },
  {
   "cell_type": "code",
   "execution_count": 65,
   "metadata": {},
   "outputs": [
    {
     "data": {
      "text/plain": [
       "<matplotlib.legend.Legend at 0x7fb126206f28>"
      ]
     },
     "execution_count": 65,
     "metadata": {},
     "output_type": "execute_result"
    },
    {
     "data": {
      "image/png": "[encoded data removed]",
      "text/plain": [
       "<Figure size 432x288 with 1 Axes>"
      ]
     },
     "metadata": {},
     "output_type": "display_data"
    }
   ],
   "source": [
    "#plt.plot(Ode_grid,Ode_chi_ext_lc,label='no sys')\n",
    "plt.plot(Ode_grid,Ode_chi_sys,label='sys')\n",
    "plt.plot(Ode_grid,Ode_chi_sys_lc,label='sys+lc')\n",
    "#plt.plot(Ode_grid,Ode_chi_sys[:,2],label='sys (3)')\n",
    "plt.plot(Ode_grid,Ode_chi_73,label=r'$H_0=73.8$ (from Riess 2011)')\n",
    "#plt.plot(Ode_grid,Ode_chi_69,label=r'$H_0=69$')\n",
    "plt.xlabel(r'$\\Omega_\\Lambda$'); plt.ylabel(r'$\\chi^2$')\n",
    "plt.legend()"
   ]
  },
  {
   "cell_type": "code",
   "execution_count": 44,
   "metadata": {},
   "outputs": [],
   "source": [
    "n_abm = 20\n",
    "n_ode = 40\n",
    "A = np.linspace(0,0.3,n_abm)\n",
    "B = np.linspace(1,5,n_abm)\n",
    "M = np.linspace(-20,-19,n_abm)\n",
    "ODE = np.linspace(0.5,1,n_ode)\n",
    "A,B,M,ODE = np.meshgrid(A,B,M,ODE)\n",
    "chi2_4d_sys = np.empty_like(A)\n",
    "chi2_4d_sys_lc = np.empty_like(A)\n",
    "for i in range(n_abm):\n",
    "    for j in range(n_abm):\n",
    "        print(j)\n",
    "        for k in range(n_abm):\n",
    "            for l in range(n_ode):\n",
    "                chi2_4d_sys[i,j,k,l] = chi2_sys_flatLCDM([A[i,j,k,l],\n",
    "                                                          B[i,j,k,l],\n",
    "                                                          M[i,j,k,l],\n",
    "                                                          ODE[i,j,k,l]],mode='sys')\n",
    "                chi2_4d_sys_lc[i,j,k,l] = chi2_sys_flatLCDM([A[i,j,k,l],\n",
    "                                                             B[i,j,k,l],\n",
    "                                                             M[i,j,k,l],\n",
    "                                                             ODE[i,j,k,l]])"
   ]
  },
  {
   "cell_type": "code",
   "execution_count": 68,
   "metadata": {},
   "outputs": [
    {
     "name": "stdout",
     "output_type": "stream",
     "text": [
      "0.07894736842105263 2.263157894736842 -19.105263157894736 0.6923076923076923\n",
      "0.09473684210526316 2.473684210526316 -19.157894736842106 0.7435897435897436\n"
     ]
    }
   ],
   "source": [
    "index_sys = chi2_4d_sys.argmin()\n",
    "index_sys_lc = chi2_4d_sys_lc.argmin()\n",
    "\n",
    "index_sys = np.unravel_index(index_sys,dims=chi2_4d_sys.shape)\n",
    "index_sys_lc = np.unravel_index(index_sys_lc,dims=chi2_4d_sys_lc.shape)\n",
    "\n",
    "print(A[index_sys],B[index_sys],M[index_sys],ODE[index_sys])\n",
    "print(A[index_sys_lc],B[index_sys_lc],M[index_sys_lc],ODE[index_sys_lc])"
   ]
  },
  {
   "cell_type": "code",
   "execution_count": 69,
   "metadata": {},
   "outputs": [
    {
     "name": "stdout",
     "output_type": "stream",
     "text": [
      "The deceleration parameter is -0.5384615384615384, thus, the expansion of the universe is accelerated\n",
      "The deceleration parameter is -0.6153846153846154, thus, the expansion of the universe is accelerated\n"
     ]
    }
   ],
   "source": [
    "# using equation 3.48 of the cosmology notes\n",
    "q0_sys = (1-ODE[index_sys])/2-ODE[index_sys]\n",
    "print('The deceleration parameter is {}, thus, the expansion of the universe is accelerated'.format(q0_sys))\n",
    "q0_sys_lc = (1-ODE[index_sys_lc])/2-ODE[index_sys_lc]\n",
    "print('The deceleration parameter is {}, thus, the expansion of the universe is accelerated'.format(q0_sys_lc))"
   ]
  },
  {
   "cell_type": "code",
   "execution_count": 70,
   "metadata": {},
   "outputs": [],
   "source": [
    "Ode_chi_sys = [chi2_sys_flatLCDM([A[index_sys],B[index_sys],M[index_sys],Ode],mode='sys') for Ode in Ode_grid] \n",
    "Ode_chi_sys_lc = [chi2_sys_flatLCDM([A[index_sys_lc],B[index_sys_lc],M[index_sys_lc],Ode]) for Ode in Ode_grid]"
   ]
  },
  {
   "cell_type": "code",
   "execution_count": 71,
   "metadata": {},
   "outputs": [
    {
     "data": {
      "text/plain": [
       "<matplotlib.legend.Legend at 0x7fb126177e48>"
      ]
     },
     "execution_count": 71,
     "metadata": {},
     "output_type": "execute_result"
    },
    {
     "data": {
      "image/png": "[encoded data removed]",
      "text/plain": [
       "<Figure size 432x288 with 1 Axes>"
      ]
     },
     "metadata": {},
     "output_type": "display_data"
    }
   ],
   "source": [
    "plt.plot(Ode_grid,Ode_chi_sys,label='sys')\n",
    "plt.plot(Ode_grid,Ode_chi_sys_lc,label='sys+lc')\n",
    "plt.plot(ODE[index_sys[0],index_sys[1],index_sys[2],:],chi2_4d_sys[index_sys[0],index_sys[1],index_sys[2],:])\n",
    "plt.plot(Ode_grid,Ode_chi_73,label=r'$H_0=73.8$ (from Riess 2011)')\n",
    "plt.xlabel(r'$\\Omega_\\Lambda$'); plt.ylabel(r'$\\chi^2$')\n",
    "plt.legend()"
   ]
  },
  {
   "cell_type": "markdown",
   "metadata": {},
   "source": [
    "## Curved universe (w=0)\n",
    "### Standard fit"
   ]
  },
  {
   "cell_type": "code",
   "execution_count": 60,
   "metadata": {},
   "outputs": [],
   "source": [
    "# Create astropy model\n",
    "curvedLCDM_aModel = amod.custom_model(lambda z,Om=0.2,Ode=.8 : dist_mod(z,Hz_curvedLCDM,(Om,Ode)))\n",
    " \n",
    "init_curvedLCDM = curvedLCDM_aModel()\n",
    "fit_curvedLCDM = afit.LevMarLSQFitter()\n",
    "curvedLCDM_result = fit_curvedLCDM(init_curvedLCDM,\n",
    "                               SNe_df['z'],\n",
    "                               SNe_df['d_mod'],\n",
    "                               weights=SNe_df['err_d_mod'])\n",
    "curvedLCDM_err = np.sqrt(np.diag(fit_curvedLCDM.fit_info['param_cov']))\n",
    "Ode = curvedLCDM_result.Ode.value\n",
    "Om = curvedLCDM_result.Om.value"
   ]
  },
  {
   "cell_type": "code",
   "execution_count": 61,
   "metadata": {},
   "outputs": [
    {
     "name": "stdout",
     "output_type": "stream",
     "text": [
      "The fitted values are:\n",
      "\tOm  : 3.406(0.55)\n",
      "\tOde : 3.792(0.43)\n",
      "\tOk  : -6.198\n"
     ]
    }
   ],
   "source": [
    "print('The fitted values are:\\n\\tOm  : {:.3f}({:.2f})\\n\\tOde : {:.3f}({:.2f})\\n\\tOk  : {:.3f}'.format(Om,curvedLCDM_err[0],\n",
    "                                                                                     Ode,curvedLCDM_err[1],1-Om-Ode))"
   ]
  },
  {
   "cell_type": "code",
   "execution_count": 62,
   "metadata": {},
   "outputs": [
    {
     "name": "stdout",
     "output_type": "stream",
     "text": [
      "The deceleration parameter is -2.0890562191931465, thus, the expansion of the universe is accelerated\n"
     ]
    }
   ],
   "source": [
    "# using equation 3.48 of the cosmology notes\n",
    "q0_std = Om/2-Ode\n",
    "print('The deceleration parameter is {}, thus, the expansion of the universe is accelerated'.format(q0_std))"
   ]
  },
  {
   "cell_type": "markdown",
   "metadata": {},
   "source": [
    "## $\\chi^2$ fitting"
   ]
  },
  {
   "cell_type": "code",
   "execution_count": null,
   "metadata": {},
   "outputs": [],
   "source": [
    "def chi2_sys_curvedLCDM(x,data=SNe_df,Csys=C_sys, Cext = C_nosys, Cinv_sys=Cinv_sys, mode='sys+lc'):\n",
    "    alfa,beta,Mb,Om,Ode = x\n",
    "    Ok = 1-Om-Ode\n",
    "    mu_B = data['mb']+alfa*data['x1']-beta*data['color']-Mb\n",
    "    mu_cosmo = dist_mod(data['z'],Hz_curvedLCDM,(Om,Ode))\n",
    "    mu_diff = (mu_B-mu_cosmo)**2\n",
    "    sigma2_lc = data['err_mb']**2+alfa**2*data['err_x1']**2+beta**2*data['err_color']**2\n",
    "    Cinv = Cinv_sys if mode=='sys' else linalg.inv(np.diag(sigma2_lc)+Csys)\n",
    "    #Cinv_2 = linalg.inv(Csys)\n",
    "    #Cinv_3 = linalg.inv(np.diag(sigma2_lc)+Csys+Cext)\n",
    "    res = np.matmul(mu_diff,np.matmul(Cinv,mu_diff))\n",
    "    return res"
   ]
  },
  {
   "cell_type": "code",
   "execution_count": null,
   "metadata": {},
   "outputs": [],
   "source": []
  },
  {
   "cell_type": "markdown",
   "metadata": {},
   "source": [
    "## Calculate $w$, the dark matter equation of state parameter\n",
    "### Standard fitting"
   ]
  },
  {
   "cell_type": "code",
   "execution_count": 73,
   "metadata": {},
   "outputs": [],
   "source": [
    "# Create astropy model\n",
    "w_cte_aModel = amod.custom_model(lambda z,Ode=.3,w=-1 : dist_mod(z,Hz_w_cte,(Ode,w)))\n",
    " \n",
    "init_w_cte = w_cte_aModel()\n",
    "fit_w_cte = afit.LevMarLSQFitter()\n",
    "w_cte_result = fit_w_cte(init_w_cte,\n",
    "                               SNe_df['z'],\n",
    "                               SNe_df['d_mod'],\n",
    "                               weights=SNe_df['err_d_mod'])\n",
    "w_cte_err = np.sqrt(np.diag(fit_w_cte.fit_info['param_cov']))\n",
    "Om_w_cte = w_cte_result.Ode.value\n",
    "Ode_w_cte = 1-Om_w_cte"
   ]
  },
  {
   "cell_type": "code",
   "execution_count": 74,
   "metadata": {},
   "outputs": [
    {
     "name": "stdout",
     "output_type": "stream",
     "text": [
      "The fitted values are:\n",
      "\tOde : 0.42(0.03)\n",
      "\tw : -4.52(1.23)\n"
     ]
    }
   ],
   "source": [
    "print('The fitted values are:\\n\\tOde : {:.2f}({:.2f})\\n\\tw : {:.2f}({:.2f})'.format(Ode_w_cte,\n",
    "                                                                                    w_cte_err[0],\n",
    "                                                                                    w_cte_result.w.value,\n",
    "                                                                                    w_cte_err[1]))"
   ]
  },
  {
   "cell_type": "code",
   "execution_count": 21,
   "metadata": {},
   "outputs": [
    {
     "data": {
      "text/plain": [
       "Text(0,0.5,'Distance modulus')"
      ]
     },
     "execution_count": 21,
     "metadata": {},
     "output_type": "execute_result"
    },
    {
     "data": {
      "image/png": "[encoded data removed]",
      "text/plain": [
       "<Figure size 432x288 with 1 Axes>"
      ]
     },
     "metadata": {},
     "output_type": "display_data"
    }
   ],
   "source": [
    "plt.errorbar(SNe_df['z'],SNe_df['d_mod'],yerr=SNe_df['err_d_mod'],fmt='_')\n",
    "plt.plot(z_grid,w_cte_result(z_grid))\n",
    "plt.xlabel('z'); plt.ylabel('Distance modulus')"
   ]
  },
  {
   "cell_type": "markdown",
   "metadata": {},
   "source": [
    "### $\\chi^2$ fitting"
   ]
  },
  {
   "cell_type": "code",
   "execution_count": null,
   "metadata": {},
   "outputs": [],
   "source": []
  },
  {
   "cell_type": "code",
   "execution_count": null,
   "metadata": {},
   "outputs": [],
   "source": []
  },
  {
   "cell_type": "markdown",
   "metadata": {},
   "source": [
    "#### Study the effect of Peculiar Velocities"
   ]
  },
  {
   "cell_type": "markdown",
   "metadata": {
    "collapsed": true
   },
   "source": [
    "From Davis et al. 2011:\n",
    "\n",
    "$$\n",
    "(1+z)=(1+\\bar{z})(1-v_\\odot/c + v_{SN}/c)\n",
    "$$\n",
    "\n",
    "where $z$ is the observed redsfhit, and $\\bar{z}$ is the cosmological redshift. \n",
    "\n",
    "Reference values: $v_\\odot$ = 371km/s, $\\sigma_{SN}$ = 300km/s)."
   ]
  },
  {
   "cell_type": "code",
   "execution_count": 22,
   "metadata": {},
   "outputs": [
    {
     "ename": "TypeError",
     "evalue": "Hz_flatLCDM() takes from 2 to 3 positional arguments but 4 were given",
     "output_type": "error",
     "traceback": [
      "\u001b[0;31m---------------------------------------------------------------------------\u001b[0m",
      "\u001b[0;31mTypeError\u001b[0m                                 Traceback (most recent call last)",
      "\u001b[0;32m<ipython-input-22-0ca83c08fe69>\u001b[0m in \u001b[0;36m<module>\u001b[0;34m()\u001b[0m\n\u001b[1;32m     17\u001b[0m                     \u001b[0mydata\u001b[0m\u001b[0;34m=\u001b[0m\u001b[0md_mod\u001b[0m\u001b[0;34m,\u001b[0m\u001b[0;34m\u001b[0m\u001b[0m\n\u001b[1;32m     18\u001b[0m                     \u001b[0msigma\u001b[0m \u001b[0;34m=\u001b[0m \u001b[0md_mod_err\u001b[0m\u001b[0;34m,\u001b[0m \u001b[0mabsolute_sigma\u001b[0m\u001b[0;34m=\u001b[0m\u001b[0;32mTrue\u001b[0m\u001b[0;34m,\u001b[0m\u001b[0;34m\u001b[0m\u001b[0m\n\u001b[0;32m---> 19\u001b[0;31m                     p0=cosmo_params)\n\u001b[0m\u001b[1;32m     20\u001b[0m \u001b[0;34m\u001b[0m\u001b[0m\n\u001b[1;32m     21\u001b[0m \u001b[0mres_err_pec\u001b[0m \u001b[0;34m=\u001b[0m \u001b[0mnp\u001b[0m\u001b[0;34m.\u001b[0m\u001b[0msqrt\u001b[0m\u001b[0;34m(\u001b[0m\u001b[0mnp\u001b[0m\u001b[0;34m.\u001b[0m\u001b[0mdiag\u001b[0m\u001b[0;34m(\u001b[0m\u001b[0mres_pec\u001b[0m\u001b[0;34m[\u001b[0m\u001b[0;36m1\u001b[0m\u001b[0;34m]\u001b[0m\u001b[0;34m)\u001b[0m\u001b[0;34m)\u001b[0m\u001b[0;34m\u001b[0m\u001b[0m\n",
      "\u001b[0;32m~/venvs/pic_python3.5/lib/python3.5/site-packages/scipy/optimize/minpack.py\u001b[0m in \u001b[0;36mcurve_fit\u001b[0;34m(f, xdata, ydata, p0, sigma, absolute_sigma, check_finite, bounds, method, jac, **kwargs)\u001b[0m\n\u001b[1;32m    740\u001b[0m         \u001b[0;31m# Remove full_output from kwargs, otherwise we're passing it in twice.\u001b[0m\u001b[0;34m\u001b[0m\u001b[0;34m\u001b[0m\u001b[0m\n\u001b[1;32m    741\u001b[0m         \u001b[0mreturn_full\u001b[0m \u001b[0;34m=\u001b[0m \u001b[0mkwargs\u001b[0m\u001b[0;34m.\u001b[0m\u001b[0mpop\u001b[0m\u001b[0;34m(\u001b[0m\u001b[0;34m'full_output'\u001b[0m\u001b[0;34m,\u001b[0m \u001b[0;32mFalse\u001b[0m\u001b[0;34m)\u001b[0m\u001b[0;34m\u001b[0m\u001b[0m\n\u001b[0;32m--> 742\u001b[0;31m         \u001b[0mres\u001b[0m \u001b[0;34m=\u001b[0m \u001b[0mleastsq\u001b[0m\u001b[0;34m(\u001b[0m\u001b[0mfunc\u001b[0m\u001b[0;34m,\u001b[0m \u001b[0mp0\u001b[0m\u001b[0;34m,\u001b[0m \u001b[0mDfun\u001b[0m\u001b[0;34m=\u001b[0m\u001b[0mjac\u001b[0m\u001b[0;34m,\u001b[0m \u001b[0mfull_output\u001b[0m\u001b[0;34m=\u001b[0m\u001b[0;36m1\u001b[0m\u001b[0;34m,\u001b[0m \u001b[0;34m**\u001b[0m\u001b[0mkwargs\u001b[0m\u001b[0;34m)\u001b[0m\u001b[0;34m\u001b[0m\u001b[0m\n\u001b[0m\u001b[1;32m    743\u001b[0m         \u001b[0mpopt\u001b[0m\u001b[0;34m,\u001b[0m \u001b[0mpcov\u001b[0m\u001b[0;34m,\u001b[0m \u001b[0minfodict\u001b[0m\u001b[0;34m,\u001b[0m \u001b[0merrmsg\u001b[0m\u001b[0;34m,\u001b[0m \u001b[0mier\u001b[0m \u001b[0;34m=\u001b[0m \u001b[0mres\u001b[0m\u001b[0;34m\u001b[0m\u001b[0m\n\u001b[1;32m    744\u001b[0m         \u001b[0mcost\u001b[0m \u001b[0;34m=\u001b[0m \u001b[0mnp\u001b[0m\u001b[0;34m.\u001b[0m\u001b[0msum\u001b[0m\u001b[0;34m(\u001b[0m\u001b[0minfodict\u001b[0m\u001b[0;34m[\u001b[0m\u001b[0;34m'fvec'\u001b[0m\u001b[0;34m]\u001b[0m \u001b[0;34m**\u001b[0m \u001b[0;36m2\u001b[0m\u001b[0;34m)\u001b[0m\u001b[0;34m\u001b[0m\u001b[0m\n",
      "\u001b[0;32m~/venvs/pic_python3.5/lib/python3.5/site-packages/scipy/optimize/minpack.py\u001b[0m in \u001b[0;36mleastsq\u001b[0;34m(func, x0, args, Dfun, full_output, col_deriv, ftol, xtol, gtol, maxfev, epsfcn, factor, diag)\u001b[0m\n\u001b[1;32m    375\u001b[0m     \u001b[0;32mif\u001b[0m \u001b[0;32mnot\u001b[0m \u001b[0misinstance\u001b[0m\u001b[0;34m(\u001b[0m\u001b[0margs\u001b[0m\u001b[0;34m,\u001b[0m \u001b[0mtuple\u001b[0m\u001b[0;34m)\u001b[0m\u001b[0;34m:\u001b[0m\u001b[0;34m\u001b[0m\u001b[0m\n\u001b[1;32m    376\u001b[0m         \u001b[0margs\u001b[0m \u001b[0;34m=\u001b[0m \u001b[0;34m(\u001b[0m\u001b[0margs\u001b[0m\u001b[0;34m,\u001b[0m\u001b[0;34m)\u001b[0m\u001b[0;34m\u001b[0m\u001b[0m\n\u001b[0;32m--> 377\u001b[0;31m     \u001b[0mshape\u001b[0m\u001b[0;34m,\u001b[0m \u001b[0mdtype\u001b[0m \u001b[0;34m=\u001b[0m \u001b[0m_check_func\u001b[0m\u001b[0;34m(\u001b[0m\u001b[0;34m'leastsq'\u001b[0m\u001b[0;34m,\u001b[0m \u001b[0;34m'func'\u001b[0m\u001b[0;34m,\u001b[0m \u001b[0mfunc\u001b[0m\u001b[0;34m,\u001b[0m \u001b[0mx0\u001b[0m\u001b[0;34m,\u001b[0m \u001b[0margs\u001b[0m\u001b[0;34m,\u001b[0m \u001b[0mn\u001b[0m\u001b[0;34m)\u001b[0m\u001b[0;34m\u001b[0m\u001b[0m\n\u001b[0m\u001b[1;32m    378\u001b[0m     \u001b[0mm\u001b[0m \u001b[0;34m=\u001b[0m \u001b[0mshape\u001b[0m\u001b[0;34m[\u001b[0m\u001b[0;36m0\u001b[0m\u001b[0;34m]\u001b[0m\u001b[0;34m\u001b[0m\u001b[0m\n\u001b[1;32m    379\u001b[0m     \u001b[0;32mif\u001b[0m \u001b[0mn\u001b[0m \u001b[0;34m>\u001b[0m \u001b[0mm\u001b[0m\u001b[0;34m:\u001b[0m\u001b[0;34m\u001b[0m\u001b[0m\n",
      "\u001b[0;32m~/venvs/pic_python3.5/lib/python3.5/site-packages/scipy/optimize/minpack.py\u001b[0m in \u001b[0;36m_check_func\u001b[0;34m(checker, argname, thefunc, x0, args, numinputs, output_shape)\u001b[0m\n\u001b[1;32m     24\u001b[0m def _check_func(checker, argname, thefunc, x0, args, numinputs,\n\u001b[1;32m     25\u001b[0m                 output_shape=None):\n\u001b[0;32m---> 26\u001b[0;31m     \u001b[0mres\u001b[0m \u001b[0;34m=\u001b[0m \u001b[0matleast_1d\u001b[0m\u001b[0;34m(\u001b[0m\u001b[0mthefunc\u001b[0m\u001b[0;34m(\u001b[0m\u001b[0;34m*\u001b[0m\u001b[0;34m(\u001b[0m\u001b[0;34m(\u001b[0m\u001b[0mx0\u001b[0m\u001b[0;34m[\u001b[0m\u001b[0;34m:\u001b[0m\u001b[0mnuminputs\u001b[0m\u001b[0;34m]\u001b[0m\u001b[0;34m,\u001b[0m\u001b[0;34m)\u001b[0m \u001b[0;34m+\u001b[0m \u001b[0margs\u001b[0m\u001b[0;34m)\u001b[0m\u001b[0;34m)\u001b[0m\u001b[0;34m)\u001b[0m\u001b[0;34m\u001b[0m\u001b[0m\n\u001b[0m\u001b[1;32m     27\u001b[0m     \u001b[0;32mif\u001b[0m \u001b[0;34m(\u001b[0m\u001b[0moutput_shape\u001b[0m \u001b[0;32mis\u001b[0m \u001b[0;32mnot\u001b[0m \u001b[0;32mNone\u001b[0m\u001b[0;34m)\u001b[0m \u001b[0;32mand\u001b[0m \u001b[0;34m(\u001b[0m\u001b[0mshape\u001b[0m\u001b[0;34m(\u001b[0m\u001b[0mres\u001b[0m\u001b[0;34m)\u001b[0m \u001b[0;34m!=\u001b[0m \u001b[0moutput_shape\u001b[0m\u001b[0;34m)\u001b[0m\u001b[0;34m:\u001b[0m\u001b[0;34m\u001b[0m\u001b[0m\n\u001b[1;32m     28\u001b[0m         \u001b[0;32mif\u001b[0m \u001b[0;34m(\u001b[0m\u001b[0moutput_shape\u001b[0m\u001b[0;34m[\u001b[0m\u001b[0;36m0\u001b[0m\u001b[0;34m]\u001b[0m \u001b[0;34m!=\u001b[0m \u001b[0;36m1\u001b[0m\u001b[0;34m)\u001b[0m\u001b[0;34m:\u001b[0m\u001b[0;34m\u001b[0m\u001b[0m\n",
      "\u001b[0;32m~/venvs/pic_python3.5/lib/python3.5/site-packages/scipy/optimize/minpack.py\u001b[0m in \u001b[0;36mfunc_wrapped\u001b[0;34m(params)\u001b[0m\n\u001b[1;32m    455\u001b[0m     \u001b[0;32melif\u001b[0m \u001b[0mtransform\u001b[0m\u001b[0;34m.\u001b[0m\u001b[0mndim\u001b[0m \u001b[0;34m==\u001b[0m \u001b[0;36m1\u001b[0m\u001b[0;34m:\u001b[0m\u001b[0;34m\u001b[0m\u001b[0m\n\u001b[1;32m    456\u001b[0m         \u001b[0;32mdef\u001b[0m \u001b[0mfunc_wrapped\u001b[0m\u001b[0;34m(\u001b[0m\u001b[0mparams\u001b[0m\u001b[0;34m)\u001b[0m\u001b[0;34m:\u001b[0m\u001b[0;34m\u001b[0m\u001b[0m\n\u001b[0;32m--> 457\u001b[0;31m             \u001b[0;32mreturn\u001b[0m \u001b[0mtransform\u001b[0m \u001b[0;34m*\u001b[0m \u001b[0;34m(\u001b[0m\u001b[0mfunc\u001b[0m\u001b[0;34m(\u001b[0m\u001b[0mxdata\u001b[0m\u001b[0;34m,\u001b[0m \u001b[0;34m*\u001b[0m\u001b[0mparams\u001b[0m\u001b[0;34m)\u001b[0m \u001b[0;34m-\u001b[0m \u001b[0mydata\u001b[0m\u001b[0;34m)\u001b[0m\u001b[0;34m\u001b[0m\u001b[0m\n\u001b[0m\u001b[1;32m    458\u001b[0m     \u001b[0;32melse\u001b[0m\u001b[0;34m:\u001b[0m\u001b[0;34m\u001b[0m\u001b[0m\n\u001b[1;32m    459\u001b[0m         \u001b[0;31m# Chisq = (y - yd)^T C^{-1} (y-yd)\u001b[0m\u001b[0;34m\u001b[0m\u001b[0;34m\u001b[0m\u001b[0m\n",
      "\u001b[0;32m<ipython-input-22-0ca83c08fe69>\u001b[0m in \u001b[0;36m<lambda>\u001b[0;34m(z, *p)\u001b[0m\n\u001b[1;32m     13\u001b[0m \u001b[0;34m\u001b[0m\u001b[0m\n\u001b[1;32m     14\u001b[0m \u001b[0mcosmo_params\u001b[0m \u001b[0;34m=\u001b[0m \u001b[0;34m[\u001b[0m\u001b[0;36m73.8\u001b[0m\u001b[0;34m,\u001b[0m\u001b[0;36m.3\u001b[0m\u001b[0;34m,\u001b[0m\u001b[0;36m0.7\u001b[0m\u001b[0;34m]\u001b[0m\u001b[0;34m\u001b[0m\u001b[0m\n\u001b[0;32m---> 15\u001b[0;31m res_pec = opt.curve_fit(lambda z,*p: dist_mod(z,Hz_flatLCDM,p),\n\u001b[0m\u001b[1;32m     16\u001b[0m                     \u001b[0mxdata\u001b[0m\u001b[0;34m=\u001b[0m\u001b[0mz_bar\u001b[0m\u001b[0;34m,\u001b[0m\u001b[0;34m\u001b[0m\u001b[0m\n\u001b[1;32m     17\u001b[0m                     \u001b[0mydata\u001b[0m\u001b[0;34m=\u001b[0m\u001b[0md_mod\u001b[0m\u001b[0;34m,\u001b[0m\u001b[0;34m\u001b[0m\u001b[0m\n",
      "\u001b[0;32m<ipython-input-5-9be49798f932>\u001b[0m in \u001b[0;36mdist_mod\u001b[0;34m(z, Hz_fun, args)\u001b[0m\n\u001b[1;32m     15\u001b[0m \u001b[0;34m\u001b[0m\u001b[0m\n\u001b[1;32m     16\u001b[0m \u001b[0;32mdef\u001b[0m \u001b[0mdist_mod\u001b[0m\u001b[0;34m(\u001b[0m\u001b[0mz\u001b[0m\u001b[0;34m,\u001b[0m\u001b[0mHz_fun\u001b[0m\u001b[0;34m,\u001b[0m\u001b[0margs\u001b[0m\u001b[0;34m)\u001b[0m\u001b[0;34m:\u001b[0m\u001b[0;34m\u001b[0m\u001b[0m\n\u001b[0;32m---> 17\u001b[0;31m     \u001b[0mD_L\u001b[0m \u001b[0;34m=\u001b[0m \u001b[0mdist_lum\u001b[0m\u001b[0;34m(\u001b[0m\u001b[0mz\u001b[0m\u001b[0;34m,\u001b[0m\u001b[0mHz_fun\u001b[0m\u001b[0;34m,\u001b[0m\u001b[0margs\u001b[0m\u001b[0;34m)\u001b[0m\u001b[0;34m\u001b[0m\u001b[0m\n\u001b[0m\u001b[1;32m     18\u001b[0m     \u001b[0;32mreturn\u001b[0m \u001b[0;36m5\u001b[0m\u001b[0;34m*\u001b[0m\u001b[0mnp\u001b[0m\u001b[0;34m.\u001b[0m\u001b[0mlog10\u001b[0m\u001b[0;34m(\u001b[0m\u001b[0mD_L\u001b[0m\u001b[0;34m)\u001b[0m\u001b[0;34m+\u001b[0m\u001b[0;36m25\u001b[0m\u001b[0;34m\u001b[0m\u001b[0m\n\u001b[1;32m     19\u001b[0m \u001b[0;34m\u001b[0m\u001b[0m\n",
      "\u001b[0;32m<ipython-input-5-9be49798f932>\u001b[0m in \u001b[0;36mdist_lum\u001b[0;34m(z, Hz_fun, args)\u001b[0m\n\u001b[1;32m     12\u001b[0m \u001b[0;34m\u001b[0m\u001b[0m\n\u001b[1;32m     13\u001b[0m \u001b[0;32mdef\u001b[0m \u001b[0mdist_lum\u001b[0m\u001b[0;34m(\u001b[0m\u001b[0mz\u001b[0m\u001b[0;34m,\u001b[0m\u001b[0mHz_fun\u001b[0m\u001b[0;34m,\u001b[0m\u001b[0margs\u001b[0m\u001b[0;34m)\u001b[0m\u001b[0;34m:\u001b[0m\u001b[0;34m\u001b[0m\u001b[0m\n\u001b[0;32m---> 14\u001b[0;31m     \u001b[0;32mreturn\u001b[0m \u001b[0mchi\u001b[0m\u001b[0;34m(\u001b[0m\u001b[0mz\u001b[0m\u001b[0;34m,\u001b[0m\u001b[0mHz_fun\u001b[0m\u001b[0;34m,\u001b[0m\u001b[0margs\u001b[0m\u001b[0;34m)\u001b[0m\u001b[0;34m*\u001b[0m\u001b[0;34m(\u001b[0m\u001b[0;36m1\u001b[0m\u001b[0;34m+\u001b[0m\u001b[0mz\u001b[0m\u001b[0;34m)\u001b[0m\u001b[0;34m\u001b[0m\u001b[0m\n\u001b[0m\u001b[1;32m     15\u001b[0m \u001b[0;34m\u001b[0m\u001b[0m\n\u001b[1;32m     16\u001b[0m \u001b[0;32mdef\u001b[0m \u001b[0mdist_mod\u001b[0m\u001b[0;34m(\u001b[0m\u001b[0mz\u001b[0m\u001b[0;34m,\u001b[0m\u001b[0mHz_fun\u001b[0m\u001b[0;34m,\u001b[0m\u001b[0margs\u001b[0m\u001b[0;34m)\u001b[0m\u001b[0;34m:\u001b[0m\u001b[0;34m\u001b[0m\u001b[0m\n",
      "\u001b[0;32m<ipython-input-5-9be49798f932>\u001b[0m in \u001b[0;36mchi\u001b[0;34m(zvec, Hz_fun, args)\u001b[0m\n\u001b[1;32m      8\u001b[0m \u001b[0;34m\u001b[0m\u001b[0m\n\u001b[1;32m      9\u001b[0m \u001b[0;32mdef\u001b[0m \u001b[0mchi\u001b[0m\u001b[0;34m(\u001b[0m\u001b[0mzvec\u001b[0m\u001b[0;34m,\u001b[0m\u001b[0mHz_fun\u001b[0m\u001b[0;34m,\u001b[0m\u001b[0margs\u001b[0m\u001b[0;34m)\u001b[0m\u001b[0;34m:\u001b[0m\u001b[0;34m\u001b[0m\u001b[0m\n\u001b[0;32m---> 10\u001b[0;31m     \u001b[0mchi\u001b[0m \u001b[0;34m=\u001b[0m \u001b[0mconst\u001b[0m\u001b[0;34m.\u001b[0m\u001b[0mc\u001b[0m\u001b[0;34m/\u001b[0m\u001b[0;36m1000\u001b[0m\u001b[0;34m*\u001b[0m\u001b[0mnp\u001b[0m\u001b[0;34m.\u001b[0m\u001b[0marray\u001b[0m\u001b[0;34m(\u001b[0m\u001b[0;34m[\u001b[0m\u001b[0mpyint\u001b[0m\u001b[0;34m.\u001b[0m\u001b[0mquad\u001b[0m\u001b[0;34m(\u001b[0m\u001b[0;32mlambda\u001b[0m \u001b[0mzz\u001b[0m\u001b[0;34m:\u001b[0m \u001b[0;36m1.\u001b[0m\u001b[0;34m/\u001b[0m\u001b[0mHz_fun\u001b[0m\u001b[0;34m(\u001b[0m\u001b[0mzz\u001b[0m\u001b[0;34m,\u001b[0m\u001b[0;34m*\u001b[0m\u001b[0margs\u001b[0m\u001b[0;34m)\u001b[0m\u001b[0;34m,\u001b[0m\u001b[0;36m0\u001b[0m\u001b[0;34m,\u001b[0m\u001b[0mz\u001b[0m\u001b[0;34m)\u001b[0m\u001b[0;34m[\u001b[0m\u001b[0;36m0\u001b[0m\u001b[0;34m]\u001b[0m \u001b[0;32mfor\u001b[0m \u001b[0mz\u001b[0m \u001b[0;32min\u001b[0m \u001b[0mzvec\u001b[0m\u001b[0;34m]\u001b[0m\u001b[0;34m)\u001b[0m\u001b[0;34m\u001b[0m\u001b[0m\n\u001b[0m\u001b[1;32m     11\u001b[0m     \u001b[0;32mreturn\u001b[0m \u001b[0mchi\u001b[0m\u001b[0;34m\u001b[0m\u001b[0m\n\u001b[1;32m     12\u001b[0m \u001b[0;34m\u001b[0m\u001b[0m\n",
      "\u001b[0;32m<ipython-input-5-9be49798f932>\u001b[0m in \u001b[0;36m<listcomp>\u001b[0;34m(.0)\u001b[0m\n\u001b[1;32m      8\u001b[0m \u001b[0;34m\u001b[0m\u001b[0m\n\u001b[1;32m      9\u001b[0m \u001b[0;32mdef\u001b[0m \u001b[0mchi\u001b[0m\u001b[0;34m(\u001b[0m\u001b[0mzvec\u001b[0m\u001b[0;34m,\u001b[0m\u001b[0mHz_fun\u001b[0m\u001b[0;34m,\u001b[0m\u001b[0margs\u001b[0m\u001b[0;34m)\u001b[0m\u001b[0;34m:\u001b[0m\u001b[0;34m\u001b[0m\u001b[0m\n\u001b[0;32m---> 10\u001b[0;31m     \u001b[0mchi\u001b[0m \u001b[0;34m=\u001b[0m \u001b[0mconst\u001b[0m\u001b[0;34m.\u001b[0m\u001b[0mc\u001b[0m\u001b[0;34m/\u001b[0m\u001b[0;36m1000\u001b[0m\u001b[0;34m*\u001b[0m\u001b[0mnp\u001b[0m\u001b[0;34m.\u001b[0m\u001b[0marray\u001b[0m\u001b[0;34m(\u001b[0m\u001b[0;34m[\u001b[0m\u001b[0mpyint\u001b[0m\u001b[0;34m.\u001b[0m\u001b[0mquad\u001b[0m\u001b[0;34m(\u001b[0m\u001b[0;32mlambda\u001b[0m \u001b[0mzz\u001b[0m\u001b[0;34m:\u001b[0m \u001b[0;36m1.\u001b[0m\u001b[0;34m/\u001b[0m\u001b[0mHz_fun\u001b[0m\u001b[0;34m(\u001b[0m\u001b[0mzz\u001b[0m\u001b[0;34m,\u001b[0m\u001b[0;34m*\u001b[0m\u001b[0margs\u001b[0m\u001b[0;34m)\u001b[0m\u001b[0;34m,\u001b[0m\u001b[0;36m0\u001b[0m\u001b[0;34m,\u001b[0m\u001b[0mz\u001b[0m\u001b[0;34m)\u001b[0m\u001b[0;34m[\u001b[0m\u001b[0;36m0\u001b[0m\u001b[0;34m]\u001b[0m \u001b[0;32mfor\u001b[0m \u001b[0mz\u001b[0m \u001b[0;32min\u001b[0m \u001b[0mzvec\u001b[0m\u001b[0;34m]\u001b[0m\u001b[0;34m)\u001b[0m\u001b[0;34m\u001b[0m\u001b[0m\n\u001b[0m\u001b[1;32m     11\u001b[0m     \u001b[0;32mreturn\u001b[0m \u001b[0mchi\u001b[0m\u001b[0;34m\u001b[0m\u001b[0m\n\u001b[1;32m     12\u001b[0m \u001b[0;34m\u001b[0m\u001b[0m\n",
      "\u001b[0;32m~/venvs/pic_python3.5/lib/python3.5/site-packages/scipy/integrate/quadpack.py\u001b[0m in \u001b[0;36mquad\u001b[0;34m(func, a, b, args, full_output, epsabs, epsrel, limit, points, weight, wvar, wopts, maxp1, limlst)\u001b[0m\n\u001b[1;32m    321\u001b[0m     \u001b[0;32mif\u001b[0m \u001b[0;34m(\u001b[0m\u001b[0mweight\u001b[0m \u001b[0;32mis\u001b[0m \u001b[0;32mNone\u001b[0m\u001b[0;34m)\u001b[0m\u001b[0;34m:\u001b[0m\u001b[0;34m\u001b[0m\u001b[0m\n\u001b[1;32m    322\u001b[0m         retval = _quad(func, a, b, args, full_output, epsabs, epsrel, limit,\n\u001b[0;32m--> 323\u001b[0;31m                        points)\n\u001b[0m\u001b[1;32m    324\u001b[0m     \u001b[0;32melse\u001b[0m\u001b[0;34m:\u001b[0m\u001b[0;34m\u001b[0m\u001b[0m\n\u001b[1;32m    325\u001b[0m         retval = _quad_weight(func, a, b, args, full_output, epsabs, epsrel,\n",
      "\u001b[0;32m~/venvs/pic_python3.5/lib/python3.5/site-packages/scipy/integrate/quadpack.py\u001b[0m in \u001b[0;36m_quad\u001b[0;34m(func, a, b, args, full_output, epsabs, epsrel, limit, points)\u001b[0m\n\u001b[1;32m    386\u001b[0m     \u001b[0;32mif\u001b[0m \u001b[0mpoints\u001b[0m \u001b[0;32mis\u001b[0m \u001b[0;32mNone\u001b[0m\u001b[0;34m:\u001b[0m\u001b[0;34m\u001b[0m\u001b[0m\n\u001b[1;32m    387\u001b[0m         \u001b[0;32mif\u001b[0m \u001b[0minfbounds\u001b[0m \u001b[0;34m==\u001b[0m \u001b[0;36m0\u001b[0m\u001b[0;34m:\u001b[0m\u001b[0;34m\u001b[0m\u001b[0m\n\u001b[0;32m--> 388\u001b[0;31m             \u001b[0;32mreturn\u001b[0m \u001b[0m_quadpack\u001b[0m\u001b[0;34m.\u001b[0m\u001b[0m_qagse\u001b[0m\u001b[0;34m(\u001b[0m\u001b[0mfunc\u001b[0m\u001b[0;34m,\u001b[0m\u001b[0ma\u001b[0m\u001b[0;34m,\u001b[0m\u001b[0mb\u001b[0m\u001b[0;34m,\u001b[0m\u001b[0margs\u001b[0m\u001b[0;34m,\u001b[0m\u001b[0mfull_output\u001b[0m\u001b[0;34m,\u001b[0m\u001b[0mepsabs\u001b[0m\u001b[0;34m,\u001b[0m\u001b[0mepsrel\u001b[0m\u001b[0;34m,\u001b[0m\u001b[0mlimit\u001b[0m\u001b[0;34m)\u001b[0m\u001b[0;34m\u001b[0m\u001b[0m\n\u001b[0m\u001b[1;32m    389\u001b[0m         \u001b[0;32melse\u001b[0m\u001b[0;34m:\u001b[0m\u001b[0;34m\u001b[0m\u001b[0m\n\u001b[1;32m    390\u001b[0m             \u001b[0;32mreturn\u001b[0m \u001b[0m_quadpack\u001b[0m\u001b[0;34m.\u001b[0m\u001b[0m_qagie\u001b[0m\u001b[0;34m(\u001b[0m\u001b[0mfunc\u001b[0m\u001b[0;34m,\u001b[0m\u001b[0mbound\u001b[0m\u001b[0;34m,\u001b[0m\u001b[0minfbounds\u001b[0m\u001b[0;34m,\u001b[0m\u001b[0margs\u001b[0m\u001b[0;34m,\u001b[0m\u001b[0mfull_output\u001b[0m\u001b[0;34m,\u001b[0m\u001b[0mepsabs\u001b[0m\u001b[0;34m,\u001b[0m\u001b[0mepsrel\u001b[0m\u001b[0;34m,\u001b[0m\u001b[0mlimit\u001b[0m\u001b[0;34m)\u001b[0m\u001b[0;34m\u001b[0m\u001b[0m\n",
      "\u001b[0;32m<ipython-input-5-9be49798f932>\u001b[0m in \u001b[0;36m<lambda>\u001b[0;34m(zz)\u001b[0m\n\u001b[1;32m      8\u001b[0m \u001b[0;34m\u001b[0m\u001b[0m\n\u001b[1;32m      9\u001b[0m \u001b[0;32mdef\u001b[0m \u001b[0mchi\u001b[0m\u001b[0;34m(\u001b[0m\u001b[0mzvec\u001b[0m\u001b[0;34m,\u001b[0m\u001b[0mHz_fun\u001b[0m\u001b[0;34m,\u001b[0m\u001b[0margs\u001b[0m\u001b[0;34m)\u001b[0m\u001b[0;34m:\u001b[0m\u001b[0;34m\u001b[0m\u001b[0m\n\u001b[0;32m---> 10\u001b[0;31m     \u001b[0mchi\u001b[0m \u001b[0;34m=\u001b[0m \u001b[0mconst\u001b[0m\u001b[0;34m.\u001b[0m\u001b[0mc\u001b[0m\u001b[0;34m/\u001b[0m\u001b[0;36m1000\u001b[0m\u001b[0;34m*\u001b[0m\u001b[0mnp\u001b[0m\u001b[0;34m.\u001b[0m\u001b[0marray\u001b[0m\u001b[0;34m(\u001b[0m\u001b[0;34m[\u001b[0m\u001b[0mpyint\u001b[0m\u001b[0;34m.\u001b[0m\u001b[0mquad\u001b[0m\u001b[0;34m(\u001b[0m\u001b[0;32mlambda\u001b[0m \u001b[0mzz\u001b[0m\u001b[0;34m:\u001b[0m \u001b[0;36m1.\u001b[0m\u001b[0;34m/\u001b[0m\u001b[0mHz_fun\u001b[0m\u001b[0;34m(\u001b[0m\u001b[0mzz\u001b[0m\u001b[0;34m,\u001b[0m\u001b[0;34m*\u001b[0m\u001b[0margs\u001b[0m\u001b[0;34m)\u001b[0m\u001b[0;34m,\u001b[0m\u001b[0;36m0\u001b[0m\u001b[0;34m,\u001b[0m\u001b[0mz\u001b[0m\u001b[0;34m)\u001b[0m\u001b[0;34m[\u001b[0m\u001b[0;36m0\u001b[0m\u001b[0;34m]\u001b[0m \u001b[0;32mfor\u001b[0m \u001b[0mz\u001b[0m \u001b[0;32min\u001b[0m \u001b[0mzvec\u001b[0m\u001b[0;34m]\u001b[0m\u001b[0;34m)\u001b[0m\u001b[0;34m\u001b[0m\u001b[0m\n\u001b[0m\u001b[1;32m     11\u001b[0m     \u001b[0;32mreturn\u001b[0m \u001b[0mchi\u001b[0m\u001b[0;34m\u001b[0m\u001b[0m\n\u001b[1;32m     12\u001b[0m \u001b[0;34m\u001b[0m\u001b[0m\n",
      "\u001b[0;31mTypeError\u001b[0m: Hz_flatLCDM() takes from 2 to 3 positional arguments but 4 were given"
     ]
    }
   ],
   "source": [
    "vsun = 371.\n",
    "vsn = 300.\n",
    "\n",
    "mask = np.isfinite(SNe_df['z']) & np.isfinite(SNe_df['d_mod'])\n",
    "z_obs = SNe_df[mask]['z']\n",
    "N = len(z_obs)\n",
    "v_SN = np.random.normal(loc=0,scale=300,size=N)\n",
    "# Note: the redhifts should already be corrected to vsun, therefore, correcting it again makes no sense.\n",
    "z_bar = (1+z_obs)/(1-(vsun+vsn)*1000/const.c)-1\n",
    "\n",
    "d_mod = SNe_df[mask]['d_mod']\n",
    "d_mod_err = SNe_df[mask]['err_d_mod']\n",
    "\n",
    "cosmo_params = [73.8,.3,0.7]\n",
    "res_pec = opt.curve_fit(lambda z,*p: dist_mod(z,Hz_flatLCDM,p),\n",
    "                    xdata=z_bar,\n",
    "                    ydata=d_mod,\n",
    "                    sigma = d_mod_err, absolute_sigma=True,\n",
    "                    p0=cosmo_params)\n",
    "\n",
    "res_err_pec = np.sqrt(np.diag(res_pec[1]))\n",
    "H0,Om,Ode = res_pec[0]\n",
    "\n",
    "print('The fitted parameters *WITH* peculiar velocities are:\\n\\tH0={1}({4})\\n\\tOm={2}({5})\\\n",
    "\\n\\tOk={0}\\n\\tOde={3}({6})'.format(1-sum(res_pec[0][1:]),*np.append(res_pec[0],res_err_pec)))\n",
    "\n",
    "print('The fitted parameters *WITHOUT* considering peculiar velocities are:\\n\\tH0={1}({4})\\n\\tOm={2}({5})\\\n",
    "\\n\\tOk={0}\\n\\tOde={3}({6})'.format(1-sum(res[0][1:]),*np.append(res[0],res_err)))\n",
    "\n",
    "\n",
    "plt.errorbar(z_bar,d_mod,yerr=d_mod_err,fmt='_', label = r'$z_{bar}$')\n",
    "plt.errorbar(z_obs,d_mod,yerr=d_mod_err,fmt='_', label = r'$z_{obs}$')\n",
    "plt.plot(z_grid,dist_mod(z_grid,Hz_flatLCDM,res_pec[0]))\n",
    "plt.legend(); plt.xlabel('Redshift $z$'); plt.ylabel(r'Distance Modulus $\\mu$')\n"
   ]
  },
  {
   "cell_type": "markdown",
   "metadata": {
    "collapsed": true
   },
   "source": [
    "## Questions\n",
    "\n",
    "* How to fit? Is curve_fit enough?\n",
    "* Do we have to explore models different than flat Universe?\n",
    "* In the study of peculiar velocities, we're assuming that the distance modulus remains unchanged after incorporating vsn and Vsun. however, the distance modulus depends on the luminosity distance, which according to Davis et al. (2011), should also be corrected for peculiar velocities. The results presented in this notebook assume $\\mu$ is unchanged.\n"
   ]
  },
  {
   "cell_type": "markdown",
   "metadata": {},
   "source": [
    "Last question: It's possible to do it theoretically as an order of magnitude."
   ]
  },
  {
   "cell_type": "markdown",
   "metadata": {
    "collapsed": true
   },
   "source": [
    "# Determination of $H_0$\n"
   ]
  },
  {
   "cell_type": "code",
   "execution_count": null,
   "metadata": {},
   "outputs": [],
   "source": []
  },
  {
   "cell_type": "code",
   "execution_count": null,
   "metadata": {},
   "outputs": [],
   "source": []
  }
 ],
 "metadata": {
  "kernelspec": {
   "display_name": "Python 3",
   "language": "python",
   "name": "python3"
  },
  "language_info": {
   "codemirror_mode": {
    "name": "ipython",
    "version": 3
   },
   "file_extension": ".py",
   "mimetype": "text/x-python",
   "name": "python",
   "nbconvert_exporter": "python",
   "pygments_lexer": "ipython3",
   "version": "3.5.2"
  }
 },
 "nbformat": 4,
 "nbformat_minor": 2
}
