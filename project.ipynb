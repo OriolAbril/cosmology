{
 "cells": [
  {
   "cell_type": "markdown",
   "metadata": {},
   "source": [
    "# Cosmology project: Measuring Cosmic acceleration with Type Ia Supernovaes"
   ]
  },
  {
   "cell_type": "markdown",
   "metadata": {},
   "source": [
    "Authors: Oriol Abril Pla, Mariona Badenas Agusti\n",
    "\n",
    "April 2018"
   ]
  },
  {
   "cell_type": "code",
   "execution_count": 1,
   "metadata": {},
   "outputs": [],
   "source": [
    "%matplotlib inline\n",
    "%config IPython.matplotlib.backend = \"retina\"\n",
    "\n",
    "import pandas as pd\n",
    "import matplotlib.pyplot as plt\n",
    "\n",
    "import scipy.optimize as opt\n",
    "import scipy.integrate as pyint\n",
    "import scipy.constants as const\n",
    "import scipy.stats as stat\n",
    "import numpy as np\n",
    "import numpy.linalg as linalg\n",
    "\n",
    "import astropy.modeling.models as amod\n",
    "import astropy.modeling.fitting as afit\n",
    "import sys\n",
    "\n",
    "from matplotlib import rcParams\n",
    "rcParams['figure.figsize'] = 10, 7\n",
    "#rcParams['figure.figsize'] = 5.5, 3.2\n",
    "rcParams[\"figure.dpi\"] = 150\n",
    "rcParams[\"savefig.dpi\"] = 150"
   ]
  },
  {
   "cell_type": "markdown",
   "metadata": {},
   "source": [
    "#### Load the data\n",
    "Load the sample from Union2 SNe and select only the desired coordinates."
   ]
  },
  {
   "cell_type": "code",
   "execution_count": 2,
   "metadata": {},
   "outputs": [
    {
     "name": "stdout",
     "output_type": "stream",
     "text": [
      "<class 'pandas.core.frame.DataFrame'>\n",
      "Index: 753 entries, 1993ah to X-026\n",
      "Data columns (total 8 columns):\n",
      "z              753 non-null float64\n",
      "mb             753 non-null object\n",
      "x1             753 non-null object\n",
      "color          753 non-null object\n",
      "d_mod          753 non-null object\n",
      "unknown        753 non-null object\n",
      "sample         753 non-null float64\n",
      "Cuts Failed    753 non-null object\n",
      "dtypes: float64(2), object(6)\n",
      "memory usage: 52.9+ KB\n",
      "<class 'pandas.core.frame.DataFrame'>\n",
      "Index: 580 entries, 1993ah to Z-005\n",
      "Data columns (total 8 columns):\n",
      "z              580 non-null float64\n",
      "mb             580 non-null object\n",
      "x1             580 non-null object\n",
      "color          580 non-null object\n",
      "d_mod          580 non-null object\n",
      "unknown        580 non-null object\n",
      "sample         580 non-null float64\n",
      "Cuts Failed    580 non-null object\n",
      "dtypes: float64(2), object(6)\n",
      "memory usage: 40.8+ KB\n"
     ]
    }
   ],
   "source": [
    "database_file = 'SCPUnion2.1_AllSNe.txt'\n",
    "SNe_df = pd.read_csv(database_file,header=None, sep=r'\\)?\\s+&\\s+', engine='python', na_filter = ['\\nodata','\\nodata\\\\'],\n",
    "                    names=['ID', 'z', 'mb',  'x1', 'color',\n",
    "                           'd_mod', 'unknown', 'sample', 'Cuts Failed']).set_index('ID')\n",
    "SNe_df['Cuts Failed'] = SNe_df['Cuts Failed'].str.slice(stop=-2)\n",
    "SNe_df.info()\n",
    "SNe_df = SNe_df[SNe_df['Cuts Failed']=='\\\\nodata']\n",
    "SNe_df.info()"
   ]
  },
  {
   "cell_type": "code",
   "execution_count": 3,
   "metadata": {},
   "outputs": [
    {
     "data": {
      "text/html": [
       "<div>\n",
       "<style scoped>\n",
       "    .dataframe tbody tr th:only-of-type {\n",
       "        vertical-align: middle;\n",
       "    }\n",
       "\n",
       "    .dataframe tbody tr th {\n",
       "        vertical-align: top;\n",
       "    }\n",
       "\n",
       "    .dataframe thead th {\n",
       "        text-align: right;\n",
       "    }\n",
       "</style>\n",
       "<table border=\"1\" class=\"dataframe\">\n",
       "  <thead>\n",
       "    <tr style=\"text-align: right;\">\n",
       "      <th></th>\n",
       "      <th>z</th>\n",
       "      <th>mb</th>\n",
       "      <th>err_mb</th>\n",
       "      <th>color</th>\n",
       "      <th>err_color</th>\n",
       "      <th>d_mod</th>\n",
       "      <th>err_d_mod</th>\n",
       "      <th>x1</th>\n",
       "      <th>err_x1</th>\n",
       "    </tr>\n",
       "    <tr>\n",
       "      <th>ID</th>\n",
       "      <th></th>\n",
       "      <th></th>\n",
       "      <th></th>\n",
       "      <th></th>\n",
       "      <th></th>\n",
       "      <th></th>\n",
       "      <th></th>\n",
       "      <th></th>\n",
       "      <th></th>\n",
       "    </tr>\n",
       "  </thead>\n",
       "  <tbody>\n",
       "    <tr>\n",
       "      <th>1993ah</th>\n",
       "      <td>0.0285</td>\n",
       "      <td>16.86</td>\n",
       "      <td>0.19</td>\n",
       "      <td>0.23</td>\n",
       "      <td>0.09</td>\n",
       "      <td>35.35</td>\n",
       "      <td>0.22</td>\n",
       "      <td>-2.26</td>\n",
       "      <td>0.93</td>\n",
       "    </tr>\n",
       "    <tr>\n",
       "      <th>1993ag</th>\n",
       "      <td>0.0500</td>\n",
       "      <td>17.79</td>\n",
       "      <td>0.05</td>\n",
       "      <td>0.12</td>\n",
       "      <td>0.02</td>\n",
       "      <td>36.68</td>\n",
       "      <td>0.17</td>\n",
       "      <td>-1.09</td>\n",
       "      <td>0.24</td>\n",
       "    </tr>\n",
       "    <tr>\n",
       "      <th>1993o</th>\n",
       "      <td>0.0529</td>\n",
       "      <td>17.60</td>\n",
       "      <td>0.05</td>\n",
       "      <td>-0.01</td>\n",
       "      <td>0.02</td>\n",
       "      <td>36.82</td>\n",
       "      <td>0.16</td>\n",
       "      <td>-1.03</td>\n",
       "      <td>0.14</td>\n",
       "    </tr>\n",
       "    <tr>\n",
       "      <th>1993b</th>\n",
       "      <td>0.0701</td>\n",
       "      <td>18.43</td>\n",
       "      <td>0.04</td>\n",
       "      <td>0.09</td>\n",
       "      <td>0.02</td>\n",
       "      <td>37.45</td>\n",
       "      <td>0.16</td>\n",
       "      <td>-0.53</td>\n",
       "      <td>0.21</td>\n",
       "    </tr>\n",
       "    <tr>\n",
       "      <th>1992bs</th>\n",
       "      <td>0.0627</td>\n",
       "      <td>18.25</td>\n",
       "      <td>0.05</td>\n",
       "      <td>0.02</td>\n",
       "      <td>0.02</td>\n",
       "      <td>37.48</td>\n",
       "      <td>0.16</td>\n",
       "      <td>-0.27</td>\n",
       "      <td>0.23</td>\n",
       "    </tr>\n",
       "  </tbody>\n",
       "</table>\n",
       "</div>"
      ],
      "text/plain": [
       "             z     mb  err_mb  color  err_color  d_mod  err_d_mod    x1  \\\n",
       "ID                                                                        \n",
       "1993ah  0.0285  16.86    0.19   0.23       0.09  35.35       0.22 -2.26   \n",
       "1993ag  0.0500  17.79    0.05   0.12       0.02  36.68       0.17 -1.09   \n",
       "1993o   0.0529  17.60    0.05  -0.01       0.02  36.82       0.16 -1.03   \n",
       "1993b   0.0701  18.43    0.04   0.09       0.02  37.45       0.16 -0.53   \n",
       "1992bs  0.0627  18.25    0.05   0.02       0.02  37.48       0.16 -0.27   \n",
       "\n",
       "        err_x1  \n",
       "ID              \n",
       "1993ah    0.93  \n",
       "1993ag    0.24  \n",
       "1993o     0.14  \n",
       "1993b     0.21  \n",
       "1992bs    0.23  "
      ]
     },
     "execution_count": 3,
     "metadata": {},
     "output_type": "execute_result"
    }
   ],
   "source": [
    "def split_errors(df,name):\n",
    "    #print df.loc[df[name]==na][name]\n",
    "    mask = df[name].str.slice(start=-6)=='nodata'\n",
    "    df.loc[mask, name] = 'NaN(NaN'\n",
    "    split_df = df[name].str.split('(',expand=True)\n",
    "    df[name] = split_df[0].astype(float)\n",
    "    df['err_{}'.format(name)] = split_df[1].astype(float)\n",
    "split_errors(SNe_df,'mb')\n",
    "split_errors(SNe_df,'x1')\n",
    "split_errors(SNe_df,'color')\n",
    "split_errors(SNe_df,'d_mod')\n",
    "nice_columns = ['z', 'mb', 'err_mb',  'color', 'err_color',\n",
    "                           'd_mod', 'err_d_mod', 'x1', 'err_x1']\n",
    "SNe_df = SNe_df[nice_columns]\n",
    "SNe_df.head()"
   ]
  },
  {
   "cell_type": "markdown",
   "metadata": {},
   "source": [
    "#### Load covariance matrixes"
   ]
  },
  {
   "cell_type": "code",
   "execution_count": 4,
   "metadata": {},
   "outputs": [],
   "source": [
    "C_sys = np.loadtxt('SCPUnion2.1_covmat_sys.txt')\n",
    "Cinv_sys = linalg.inv(C_sys)\n",
    "C_nosys = np.loadtxt('SCPUnion2.1_covmat_nosys.txt')\n",
    "sigma_ext2 = np.diag(C_nosys)"
   ]
  },
  {
   "cell_type": "markdown",
   "metadata": {},
   "source": [
    "## Define cosmological functions"
   ]
  },
  {
   "cell_type": "code",
   "execution_count": 5,
   "metadata": {},
   "outputs": [],
   "source": [
    "def chi(zvec,Hz_fun,args):\n",
    "    chi = const.c/1000*np.array([pyint.quad(lambda zz: 1./Hz_fun(zz,*args),0,z)[0] for z in zvec])\n",
    "    return chi\n",
    "\n",
    "def dist_lum(z,Hz_fun,args):\n",
    "    return chi(z,Hz_fun,args)*(1+z)\n",
    "\n",
    "def dist_mod(z,Hz_fun,args):\n",
    "    D_L = dist_lum(z,Hz_fun,args)\n",
    "    return 5*np.log10(D_L)+25\n",
    "\n",
    "def Hz_flatLCDM(z,Ode,H0=73.8):\n",
    "    '''\n",
    "    Flat Lambda-CDM model with H0 from Riess 2016 and k=0 fixed\n",
    "    '''\n",
    "    Om = 1-Ode\n",
    "    Hz = H0*np.sqrt(Om*(1+z)**3+Ode)\n",
    "    return Hz\n",
    "\n",
    "def Hz_curvedLCDM(z,Om,Ode,H0=73.8):\n",
    "    '''\n",
    "    Curved Lambda-CDM model with H0 from Riess 2016 and k not fixed\n",
    "    '''\n",
    "    Ok = 1-Om-Ode\n",
    "    Hz = H0*np.sqrt(Om*(1+z)**3+Ok*(1+z)**2+Ode)\n",
    "    return Hz\n",
    "\n",
    "def Hz_w_cte(z,Ode,w,H0=73.8):\n",
    "    Om = 1-Ode\n",
    "    Hz = H0*np.sqrt(Om*(1+z)**3+Ode*np.exp(3*(1+w)*np.log(1+z)))\n",
    "    return Hz"
   ]
  },
  {
   "cell_type": "markdown",
   "metadata": {},
   "source": [
    "### Plot Hubble diagram"
   ]
  },
  {
   "cell_type": "code",
   "execution_count": 6,
   "metadata": {},
   "outputs": [
    {
     "data": {
      "text/plain": [
       "Text(0,0.5,'Distance modulus')"
      ]
     },
     "execution_count": 6,
     "metadata": {},
     "output_type": "execute_result"
    },
    {
     "data": {
      "image/png": "[encoded data removed]",
      "text/plain": [
       "<matplotlib.figure.Figure at 0x1a17632d30>"
      ]
     },
     "metadata": {},
     "output_type": "display_data"
    }
   ],
   "source": [
    "z_grid = np.linspace(1e-2,1.4,100)\n",
    "plt.errorbar(SNe_df['z'],SNe_df['d_mod'],yerr=SNe_df['err_d_mod'],fmt='_',zorder=0)\n",
    "plt.plot(z_grid,dist_mod(z_grid,Hz_flatLCDM,(0.7,)),zorder=1)\n",
    "plt.xlabel('z'); plt.ylabel('Distance modulus')"
   ]
  },
  {
   "cell_type": "markdown",
   "metadata": {},
   "source": [
    "#### Hubble diagram (+ zoom to linear)\n",
    "Show that data does not allow propper $H_0$ calculation. The procedure to try $H_0$ calculation is to filter the SNe sample to get the low redshift subset, and make a linear fit to it. The slope will be an aproximation of $H_0$"
   ]
  },
  {
   "cell_type": "code",
   "execution_count": 7,
   "metadata": {},
   "outputs": [],
   "source": [
    "# Convert z to v and d_mod to distance luminosity\n",
    "v_SNe = const.c/1000.*SNe_df['z']\n",
    "dL_SNe = 10**((SNe_df['d_mod']-25+2.5*np.log10(1+SNe_df['z']))/5)\n",
    "# Select only low redshift/distance data\n",
    "dL_max = 120\n",
    "v_SNe=v_SNe[dL_SNe<dL_max]\n",
    "dL_SNe=dL_SNe[dL_SNe<dL_max]\n",
    "# fit both with an intercept and forcing v = H*dL\n",
    "H0_fit, intercept, r, p, err = stat.linregress(dL_SNe,v_SNe)\n",
    "H0_curvefit = opt.curve_fit(lambda d,H: H*d, dL_SNe, v_SNe, p0=70)[0][0]"
   ]
  },
  {
   "cell_type": "code",
   "execution_count": 8,
   "metadata": {},
   "outputs": [
    {
     "name": "stdout",
     "output_type": "stream",
     "text": [
      "The value of H0 forcing v(z=0)=0 is H0 = 68.2734485943133 km/s/Mpc,\n",
      "which means an aproximate age of the universe of 17.92560306497399 Myr\n",
      "\n",
      "The value of H0 NOT forcing v(z=0) is H0 = 61.273112853853675 km/s/Mpc with v(z=0) = 646.8468011535952 km/s,\n",
      "which means an aproximate age of the universe of 19.973568868577484 Myr\n"
     ]
    }
   ],
   "source": [
    "age_fit = 1/H0_fit*1e6*3.86e13/3.154e7/1e9\n",
    "age_curvefit = 1/H0_curvefit*1e6*3.86e13/3.154e7/1e9\n",
    "print('The value of H0 forcing v(z=0)=0 is H0 = {} km/s/Mpc,\\nwhich means \\\n",
    "an aproximate age of the universe of {} Myr'.format(H0_curvefit,age_curvefit))\n",
    "print('\\nThe value of H0 NOT forcing v(z=0) is H0 = {0} km/s/Mpc with v(z=0) = {1} km/s,\\n\\\n",
    "which means an aproximate age of the universe of {2} Myr'.format(H0_fit,intercept,age_fit))"
   ]
  },
  {
   "cell_type": "code",
   "execution_count": 9,
   "metadata": {
    "scrolled": false
   },
   "outputs": [
    {
     "data": {
      "text/plain": [
       "<matplotlib.legend.Legend at 0x115380278>"
      ]
     },
     "execution_count": 9,
     "metadata": {},
     "output_type": "execute_result"
    },
    {
     "data": {
      "image/png": "[encoded data removed]",
      "text/plain": [
       "<matplotlib.figure.Figure at 0x115368d30>"
      ]
     },
     "metadata": {},
     "output_type": "display_data"
    }
   ],
   "source": [
    "fig = plt.figure(); ax = fig.add_subplot(111)\n",
    "ax.errorbar(SNe_df['z'],SNe_df['d_mod'],yerr=SNe_df['err_d_mod'],fmt='_',label='Data',zorder=0)\n",
    "ax.plot(z_grid,dist_mod(z_grid,Hz_flatLCDM,(0.7,)),label='flat$\\Lambda CDM$',zorder=1)\n",
    "ax.set_xlabel('z'); ax.set_ylabel('Distance modulus')\n",
    "ax.legend()\n",
    "\n",
    "dL_grid = np.linspace(10,120)\n",
    "zoom_ax = fig.add_axes([.45,.25,.4,.35])\n",
    "zoom_ax.plot(dL_SNe,v_SNe,'.',label='Data')\n",
    "zoom_ax.plot(dL_grid,dL_grid*H0_fit+intercept,label=r'$m\\neq 0$')\n",
    "zoom_ax.plot(dL_grid,dL_grid*H0_curvefit,label='$m= 0$')\n",
    "zoom_ax.set_xlabel('$d_L$ (Mpc)'); zoom_ax.set_ylabel('v (km/s)')\n",
    "zoom_ax.tick_params(direction='in')\n",
    "zoom_ax.legend(handlelength=1)"
   ]
  },
  {
   "cell_type": "markdown",
   "metadata": {},
   "source": [
    "## Find cosmological parameters \n",
    "### Flat universe and w=0\n",
    "[2018-04-05] The fit is performed directly with `scipy.optimize.curve_fit`, because it already allows to weight the values with its error. However, one method of our own or from github or comething could be implemented.\n",
    "\n",
    "[2018-04-10] The fitting is now done with `astropy.modelling`."
   ]
  },
  {
   "cell_type": "markdown",
   "metadata": {},
   "source": [
    "#### Standard fit"
   ]
  },
  {
   "cell_type": "code",
   "execution_count": 10,
   "metadata": {},
   "outputs": [],
   "source": [
    "# Create astropy model\n",
    "flatLCDM_aModel = amod.custom_model(lambda z,Ode=.7 : dist_mod(z,Hz_flatLCDM,(Ode,)))\n",
    " \n",
    "init_flatLCDM = flatLCDM_aModel()\n",
    "fit_flatLCDM = afit.LevMarLSQFitter()\n",
    "flatLCDM_result = fit_flatLCDM(init_flatLCDM,\n",
    "                               SNe_df['z'],\n",
    "                               SNe_df['d_mod'],\n",
    "                               weights=SNe_df['err_d_mod'])\n",
    "flatLCDM_Ode_err = np.sqrt(np.diag(fit_flatLCDM.fit_info['param_cov']))[0]\n",
    "Ode_flat = flatLCDM_result.Ode.value\n",
    "Om_flat = 1-Ode_flat"
   ]
  },
  {
   "cell_type": "code",
   "execution_count": 11,
   "metadata": {},
   "outputs": [
    {
     "name": "stdout",
     "output_type": "stream",
     "text": [
      "The fitted values are:\n",
      "\tOm : 0.082(0.02)\n",
      "\tOde : 0.918(0.02)\n"
     ]
    }
   ],
   "source": [
    "print('The fitted values are:\\n\\tOm : {0:.3f}({2:.2f})\\n\\tOde : {1:.3f}({2:.2f})'.format(1-Ode_flat,Ode_flat,flatLCDM_Ode_err))"
   ]
  },
  {
   "cell_type": "code",
   "execution_count": 22,
   "metadata": {},
   "outputs": [
    {
     "name": "stdout",
     "output_type": "stream",
     "text": [
      "The deceleration parameter is -0.8773(0.0205), thus, the expansion of the universe is accelerated\n"
     ]
    }
   ],
   "source": [
    "# using equation 3.48 of the cosmology notes\n",
    "q0_std = (1-Ode_flat)/2-Ode_flat\n",
    "q0_error = np.sqrt(5)*flatLCDM_Ode_err/2\n",
    "print('The deceleration parameter is {:.4f}({:.3g}), thus, the expansion of the universe is accelerated'.format(q0_std,q0_error))"
   ]
  },
  {
   "cell_type": "markdown",
   "metadata": {},
   "source": [
    "#### Show standard fit $\\chi^2$ \n",
    "Show the obtained $\\chi^2$ for the standard fit to show it is not a problem of the minimizer"
   ]
  },
  {
   "cell_type": "code",
   "execution_count": 30,
   "metadata": {},
   "outputs": [],
   "source": [
    "Ode_grid = np.linspace(0,1,201)\n",
    "Ode_chi_73 = [sum((SNe_df['d_mod']-dist_mod(SNe_df['z'],Hz_flatLCDM,(Ode,73.8)))**2/SNe_df['err_d_mod']) \n",
    "           for Ode in Ode_grid]\n",
    "Ode_chi_69 = [sum((SNe_df['d_mod']-dist_mod(SNe_df['z'],Hz_flatLCDM,(Ode,69)))**2/SNe_df['err_d_mod']) \n",
    "           for Ode in Ode_grid]"
   ]
  },
  {
   "cell_type": "code",
   "execution_count": 31,
   "metadata": {},
   "outputs": [
    {
     "name": "stdout",
     "output_type": "stream",
     "text": [
      "[0.85  0.855 0.845 0.86  0.84 ]\n"
     ]
    },
    {
     "data": {
      "image/png": "[encoded data removed]",
      "text/plain": [
       "<matplotlib.figure.Figure at 0x11521cc50>"
      ]
     },
     "metadata": {},
     "output_type": "display_data"
    }
   ],
   "source": [
    "plt.plot(Ode_grid,Ode_chi_73,label=r'$H_0=73.8$ (from Riess 2011)')\n",
    "plt.plot(Ode_grid,Ode_chi_69,label=r'$H_0=69$')\n",
    "plt.xlabel(r'$\\Omega_\\Lambda$'); plt.ylabel(r'$\\chi^2$')\n",
    "plt.legend()\n",
    "ind_73 = np.argmin(Ode_chi_73)\n",
    "inds_73 = np.argsort(Ode_chi_73)\n",
    "print(Ode_grid[inds_73[:5]])\n",
    "plt.plot(Ode_grid[ind_73],Ode_chi_73[ind_73],'ro')\n",
    "plt.text(Ode_grid[ind_73],Ode_chi_73[ind_73]-20,'Ode={:.2f}'.format(Ode_grid[ind_73]))\n",
    "ind_69 = np.argmin(Ode_chi_69)\n",
    "plt.plot(Ode_grid[ind_69],Ode_chi_69[ind_69],'ro')\n",
    "plt.text(Ode_grid[ind_69]-.05,Ode_chi_69[ind_69]-20,'Ode={:.2f}'.format(Ode_grid[ind_69]))\n",
    "plt.savefig('chi2_Ode.png')"
   ]
  },
  {
   "cell_type": "markdown",
   "metadata": {},
   "source": [
    "#### $\\chi^2$ fitting\n",
    "Fit with the $\\chi^2$, for some combinations of C and sigmas"
   ]
  },
  {
   "cell_type": "code",
   "execution_count": 35,
   "metadata": {},
   "outputs": [],
   "source": [
    "def chi2_nosys_flatLCDM(x,data=SNe_df,sigma_ext2=sigma_ext2):\n",
    "    alfa,beta,Mb,Ode = x\n",
    "    Om = 1-Ode\n",
    "    mu_B = data['mb']+alfa*data['x1']-beta*data['color']-Mb\n",
    "    mu_cosmo = dist_mod(data['z'],Hz_flatLCDM,(Ode,))\n",
    "    sigma2_lc = data['err_mb']**2+alfa**2*data['err_x1']**2+beta**2*data['err_color']**2\n",
    "    return np.sum((mu_B-mu_cosmo)**2/(sigma2_lc+sigma_ext2))\n",
    "\n",
    "def chi2_sys_flatLCDM(x,data=SNe_df,Csys=C_sys, Cext = C_nosys, Cinv_sys=Cinv_sys, mode='sys+lc'):\n",
    "    alfa,beta,Mb,Ode = x\n",
    "    Om = 1-Ode\n",
    "    mu_B = data['mb']+alfa*data['x1']-beta*data['color']-Mb\n",
    "    mu_cosmo = dist_mod(data['z'],Hz_flatLCDM,(Ode,))\n",
    "    mu_diff = (mu_B-mu_cosmo)**2\n",
    "    sigma2_lc = data['err_mb']**2+alfa**2*data['err_x1']**2+beta**2*data['err_color']**2\n",
    "    Cinv = Cinv_sys if mode=='sys' else linalg.inv(np.diag(sigma2_lc)+Csys)\n",
    "    #Cinv_2 = linalg.inv(Csys)\n",
    "    #Cinv_3 = linalg.inv(np.diag(sigma2_lc)+Csys+Cext)\n",
    "    res = np.matmul(mu_diff,np.matmul(Cinv,mu_diff))\n",
    "    return res"
   ]
  },
  {
   "cell_type": "code",
   "execution_count": null,
   "metadata": {
    "scrolled": true
   },
   "outputs": [],
   "source": [
    "n_abm = 5\n",
    "n_ode = 10\n",
    "A = np.linspace(0,0.3,n_abm)\n",
    "B = np.linspace(1.5,4,n_abm)\n",
    "M = np.linspace(-19.5,-18.8,n_abm)\n",
    "ODE = np.linspace(0.5,1,n_ode)\n",
    "A,B,M,ODE = np.meshgrid(A,B,M,ODE)\n",
    "chi2_4d_sys = np.empty_like(A)\n",
    "chi2_4d_sys_lc = np.empty_like(A)\n",
    "for i in range(n_abm):\n",
    "    for j in range(n_abm):\n",
    "        sys.stdout.flush()\n",
    "        sys.stdout.write(\"\\r{0} of {2}, {1} of {2}\".format(i+1,j+1,n_abm))\n",
    "        for k in range(n_abm):\n",
    "            for l in range(n_ode):\n",
    "                chi2_4d_sys[i,j,k,l] = chi2_sys_flatLCDM([A[i,j,k,l],\n",
    "                                                          B[i,j,k,l],\n",
    "                                                          M[i,j,k,l],\n",
    "                                                          ODE[i,j,k,l]],mode='sys')\n",
    "                chi2_4d_sys_lc[i,j,k,l] = chi2_sys_flatLCDM([A[i,j,k,l],\n",
    "                                                             B[i,j,k,l],\n",
    "                                                             M[i,j,k,l],\n",
    "                                                             ODE[i,j,k,l]])"
   ]
  },
  {
   "cell_type": "code",
   "execution_count": null,
   "metadata": {},
   "outputs": [],
   "source": [
    "index_sys = chi2_4d_sys.argmin()\n",
    "index_sys_lc = chi2_4d_sys_lc.argmin()\n",
    "\n",
    "index_sys = np.unravel_index(index_sys,dims=chi2_4d_sys.shape)\n",
    "index_sys_lc = np.unravel_index(index_sys_lc,dims=chi2_4d_sys_lc.shape)\n",
    "\n",
    "print(A[index_sys],B[index_sys],M[index_sys],ODE[index_sys])\n",
    "print(A[index_sys_lc],B[index_sys_lc],M[index_sys_lc],ODE[index_sys_lc])"
   ]
  },
  {
   "cell_type": "markdown",
   "metadata": {},
   "source": [
    "Results with finer grid (20,40): \n",
    " - sys: 0.07894736842105263 2.263157894736842 -19.105263157894736 0.6923076923076923\n",
    " - sys+ls: 0.09473684210526316 2.473684210526316 -19.157894736842106 0.7435897435897436"
   ]
  },
  {
   "cell_type": "code",
   "execution_count": 36,
   "metadata": {},
   "outputs": [],
   "source": [
    "chi2_sys_lc_res = opt.minimize(chi2_sys_flatLCDM,(0.08,2.4,-19.1,.71))"
   ]
  },
  {
   "cell_type": "code",
   "execution_count": null,
   "metadata": {},
   "outputs": [],
   "source": [
    "Ode_sys_lc = chi2_sys_lc_res['x'][-1]\n",
    "chi2_sys_lc_fixed_nuis = lambda x: chi2_sys_flatLCDM([*chi2_sys_lc_res['x'][:-1],x])-chi2_sys_lc_res['fun']-1\n",
    "Ode_sys_lc_p_error = opt.fsolve(chi2_sys_lc_fixed_nuis,Ode_sys_lc+.1)[0]-Ode_sys_lc\n",
    "Ode_sys_lc_m_error = Ode_sys_lc-opt.fsolve(chi2_sys_lc_fixed_nuis,Ode_sys_lc-.1)[0]"
   ]
  },
  {
   "cell_type": "code",
   "execution_count": null,
   "metadata": {},
   "outputs": [],
   "source": [
    "Ode_chi_sys_lc = [chi2_sys_flatLCDM([*chi2_sys_lc_res['x'][:-1],Ode]) for Ode in Ode_grid]"
   ]
  },
  {
   "cell_type": "code",
   "execution_count": null,
   "metadata": {},
   "outputs": [],
   "source": [
    "plt.plot(Ode_grid,Ode_chi_sys_lc,label='sys+lc',zorder=-1)\n",
    "plt.errorbar(Ode_sys_lc,\n",
    "             chi2_sys_flatLCDM([*chi2_sys_lc_res['x'][:-1],Ode_sys_lc]),\n",
    "             xerr=np.array([[Ode_sys_lc_m_error],[Ode_sys_lc_p_error]]),\n",
    "             fmt='+',capsize=5,zorder=1,label='Fit result (sys+lc)')\n",
    "plt.plot(Ode_grid,Ode_chi_73,label=r'$H_0=73.8$ (from Riess 2011)',zorder=-1)\n",
    "#plt.plot(Ode_grid,Ode_chi_69,label=r'$H_0=69$')\n",
    "plt.xlabel(r'$\\Omega_\\Lambda$'); plt.ylabel(r'$\\chi^2$')\n",
    "plt.legend()"
   ]
  },
  {
   "cell_type": "code",
   "execution_count": null,
   "metadata": {},
   "outputs": [],
   "source": [
    "print('The chi2 with nuisance parameters fit yields:\\n\\tOm = {0:.3g}(-{2:.2g},+{3:.2g})\\n\\t\\\n",
    "Ode = {1:.3g}(-{2:.2g},+{3:.2g})\\nWith \\\n",
    "nuisance parameters:\\n\\talpha = {4:.3g}\\n\\tbeta = {5:.3g}\\n\\tM = {6:.3f}'.format(1-Ode_sys_lc,Ode_sys_lc,\n",
    "                                                                  Ode_sys_lc_m_error,\n",
    "                                                                  Ode_sys_lc_p_error,\n",
    "                                                                  *chi2_sys_lc_res['x'][:-1]))"
   ]
  },
  {
   "cell_type": "code",
   "execution_count": null,
   "metadata": {},
   "outputs": [],
   "source": [
    "# using equation 3.48 of the cosmology notes\n",
    "q0_sys_lc = (1-Ode_sys_lc)/2-Ode_sys_lc\n",
    "sigma = np.sqrt(Ode_sys_lc_m_error**2+Ode_sys_lc_p_error**2)\n",
    "q0_err_sys_lc = np.sqrt(5)*sigma/2\n",
    "print('The deceleration parameter is {:.3f}({:.2g}), thus, the expansion of the universe is accelerated'.format(q0_sys_lc,q0_err_sys_lc))"
   ]
  },
  {
   "cell_type": "markdown",
   "metadata": {},
   "source": [
    "## Curved universe (w=0)\n",
    "### Standard fit"
   ]
  },
  {
   "cell_type": "code",
   "execution_count": null,
   "metadata": {},
   "outputs": [],
   "source": [
    "# Create astropy model\n",
    "curvedLCDM_aModel = amod.custom_model(lambda z,Om=0.3,Ode=.7 : dist_mod(z,Hz_curvedLCDM,(Om,Ode)))\n",
    " \n",
    "init_curvedLCDM = curvedLCDM_aModel()\n",
    "fit_curvedLCDM = afit.LevMarLSQFitter()\n",
    "#init_curvedLCDM.Om.bounds = [0,1.]\n",
    "#init_curvedLCDM.Ode.bounds = [0,1.]\n",
    "curvedLCDM_result = fit_curvedLCDM(init_curvedLCDM,\n",
    "                               SNe_df['z'],\n",
    "                               SNe_df['d_mod'],\n",
    "                               weights=SNe_df['err_d_mod'])\n",
    "print(curvedLCDM_result)\n",
    "curvedLCDM_err = np.sqrt(np.diag(fit_curvedLCDM.fit_info['param_cov']))\n",
    "Ode_curved = curvedLCDM_result.Ode.value\n",
    "Om_curved = curvedLCDM_result.Om.value"
   ]
  },
  {
   "cell_type": "code",
   "execution_count": null,
   "metadata": {},
   "outputs": [],
   "source": [
    "print('The fitted values are:\\n\\tOm  : {:.3f}({:.2f})\\n\\tOde : {:.3f}({:.2f})\\n\\tOk  : {:.3f}({:.2f})'.format(Om_curved,curvedLCDM_err[0],\n",
    "                                                                                     Ode_curved,curvedLCDM_err[1],1-Om_curved-Ode_curved,\n",
    "                                                                                    np.sqrt(np.sum(curvedLCDM_err**2))))"
   ]
  },
  {
   "cell_type": "code",
   "execution_count": null,
   "metadata": {},
   "outputs": [],
   "source": [
    "# using equation 3.48 of the cosmology notes\n",
    "q0_std_curved = Om_curved/2-Ode_curved\n",
    "q0_err_std_curved = np.sqrt(curvedLCDM_err[0]**2/4+curvedLCDM_err[1]**2)\n",
    "print('The deceleration parameter is {:.3f}({:.2g}), thus, \\\n",
    "the expansion of the universe is accelerated'.format(q0_std_curved,\n",
    "                                                     q0_err_std_curved))"
   ]
  },
  {
   "cell_type": "code",
   "execution_count": null,
   "metadata": {},
   "outputs": [],
   "source": [
    "Ode_grid = np.linspace(0,1,200)\n",
    "Ode_chi_curved = [sum((SNe_df['d_mod']-dist_mod(SNe_df['z'],Hz_curvedLCDM,(Om_curved,Ode_curved,)))**2/SNe_df['err_d_mod']) \n",
    "           for Ode in Ode_grid]"
   ]
  },
  {
   "cell_type": "markdown",
   "metadata": {},
   "source": [
    "## $\\chi^2$ fitting"
   ]
  },
  {
   "cell_type": "code",
   "execution_count": 51,
   "metadata": {},
   "outputs": [],
   "source": [
    "def chi2_sys_curvedLCDM(x, mode='sys+lc', data=SNe_df,Csys=C_sys, Cext = C_nosys, Cinv_sys=Cinv_sys):\n",
    "    alfa,beta,Mb,Om,Ode = x\n",
    "    Ok = 1-Om-Ode\n",
    "    mu_B = data['mb']+alfa*data['x1']-beta*data['color']-Mb\n",
    "    mu_cosmo = dist_mod(data['z'],Hz_curvedLCDM,(Om,Ode))\n",
    "    mu_diff = (mu_B-mu_cosmo)**2\n",
    "    sigma2_lc = data['err_mb']**2+alfa**2*data['err_x1']**2+beta**2*data['err_color']**2\n",
    "    Cinv = Cinv_sys if mode=='sys' else linalg.inv(np.diag(sigma2_lc)+Csys)\n",
    "    #Cinv_2 = linalg.inv(Csys)\n",
    "    #Cinv_3 = linalg.inv(np.diag(sigma2_lc)+Csys+Cext)\n",
    "    res = np.matmul(mu_diff,np.matmul(Cinv,mu_diff))\n",
    "    return res"
   ]
  },
  {
   "cell_type": "code",
   "execution_count": 52,
   "metadata": {},
   "outputs": [],
   "source": [
    "bounds = [(None,None)]*3+[(0,1)]*2\n",
    "chi2_curved_sys_lc_res = opt.minimize(chi2_sys_curvedLCDM,(0.1,2.5,-19.3,.3,.7))"
   ]
  },
  {
   "cell_type": "code",
   "execution_count": 53,
   "metadata": {},
   "outputs": [
    {
     "name": "stdout",
     "output_type": "stream",
     "text": [
      "      fun: 51.58708193705862\n",
      " hess_inv: array([[ 1.78894338e-04, -5.95801556e-05,  5.36934074e-05,\n",
      "        -1.64176164e-04, -4.06921445e-04],\n",
      "       [-5.95801556e-05,  2.29630728e-03,  4.30797322e-04,\n",
      "        -2.41935354e-03, -4.55190100e-03],\n",
      "       [ 5.36934074e-05,  4.30797322e-04,  7.97465569e-04,\n",
      "        -1.13682441e-03, -3.09122784e-03],\n",
      "       [-1.64176164e-04, -2.41935354e-03, -1.13682441e-03,\n",
      "         3.96677766e-03,  8.79433414e-03],\n",
      "       [-4.06921445e-04, -4.55190100e-03, -3.09122784e-03,\n",
      "         8.79433414e-03,  2.16148888e-02]])\n",
      "      jac: array([ 3.33786011e-06,  1.38282776e-05,  9.53674316e-07,  2.14576721e-05,\n",
      "       -1.52587891e-05])\n",
      "  message: 'Desired error not necessarily achieved due to precision loss.'\n",
      "     nfev: 725\n",
      "      nit: 21\n",
      "     njev: 102\n",
      "   status: 2\n",
      "  success: False\n",
      "        x: array([  0.0878459 ,   2.40772469, -19.1493077 ,   0.63656536,\n",
      "         1.05209751])\n"
     ]
    }
   ],
   "source": [
    "print(chi2_curved_sys_lc_res)"
   ]
  },
  {
   "cell_type": "code",
   "execution_count": 55,
   "metadata": {},
   "outputs": [],
   "source": [
    "Ode_curved_sys_lc = chi2_sys_lc_res['x'][-1]\n",
    "chi2_curved_sys_lc_fixed_nuis = lambda x: chi2_sys_curvedLCDM([*chi2_sys_lc_res['x'][:-1],x])-chi2_sys_lc_res['fun']-1\n",
    "Ode_curved_sys_lc_p_error = opt.fsolve(chi2_sys_lc_fixed_nuis,Ode_sys_lc+.1)[0]-Ode_sys_lc\n",
    "Ode_curved_sys_lc_m_error = Ode_sys_lc-opt.fsolve(chi2_sys_lc_fixed_nuis,Ode_sys_lc-.1)[0]"
   ]
  },
  {
   "cell_type": "markdown",
   "metadata": {},
   "source": [
    "## Calculate $w$, the dark matter equation of state parameter\n",
    "### Standard fitting"
   ]
  },
  {
   "cell_type": "code",
   "execution_count": 56,
   "metadata": {},
   "outputs": [],
   "source": [
    "# Create astropy model\n",
    "w_cte_aModel = amod.custom_model(lambda z,Ode=.3,w=-1 : dist_mod(z,Hz_w_cte,(Ode,w)))\n",
    " \n",
    "init_w_cte = w_cte_aModel()\n",
    "fit_w_cte = afit.LevMarLSQFitter()\n",
    "w_cte_result = fit_w_cte(init_w_cte,\n",
    "                               SNe_df['z'],\n",
    "                               SNe_df['d_mod'],\n",
    "                               weights=SNe_df['err_d_mod'])\n",
    "w_cte_err = np.sqrt(np.diag(fit_w_cte.fit_info['param_cov']))\n",
    "Om_w_cte = w_cte_result.Ode.value\n",
    "Ode_w_cte = 1-Om_w_cte"
   ]
  },
  {
   "cell_type": "code",
   "execution_count": 57,
   "metadata": {},
   "outputs": [
    {
     "name": "stdout",
     "output_type": "stream",
     "text": [
      "The fitted values are:\n",
      "\tOde : 0.41(0.03)\n",
      "\tw : -4.69(1.26)\n"
     ]
    }
   ],
   "source": [
    "print('The fitted values are:\\n\\tOde : {:.2f}({:.2f})\\n\\tw : {:.2f}({:.2f})'.format(Ode_w_cte,\n",
    "                                                                                    w_cte_err[0],\n",
    "                                                                                    w_cte_result.w.value,\n",
    "                                                                                    w_cte_err[1]))"
   ]
  },
  {
   "cell_type": "markdown",
   "metadata": {},
   "source": [
    "### $\\chi^2$ fitting"
   ]
  },
  {
   "cell_type": "code",
   "execution_count": 58,
   "metadata": {},
   "outputs": [],
   "source": [
    "def chi2_sys_wLCDM(x, mode='sys+lc', data=SNe_df,Csys=C_sys, Cext = C_nosys, Cinv_sys=Cinv_sys):\n",
    "    alfa,beta,Mb,Ode,w = x\n",
    "    Om = 1-Ode\n",
    "    mu_B = data['mb']+alfa*data['x1']-beta*data['color']-Mb\n",
    "    mu_cosmo = dist_mod(data['z'],Hz_w_cte,(Ode,w))\n",
    "    mu_diff = (mu_B-mu_cosmo)**2\n",
    "    sigma2_lc = data['err_mb']**2+alfa**2*data['err_x1']**2+beta**2*data['err_color']**2\n",
    "    Cinv = Cinv_sys if mode=='sys' else linalg.inv(np.diag(sigma2_lc)+Csys)\n",
    "    #Cinv_2 = linalg.inv(Csys)\n",
    "    #Cinv_3 = linalg.inv(np.diag(sigma2_lc)+Csys+Cext)\n",
    "    res = np.matmul(mu_diff,np.matmul(Cinv,mu_diff))\n",
    "    return res"
   ]
  },
  {
   "cell_type": "code",
   "execution_count": 59,
   "metadata": {},
   "outputs": [
    {
     "name": "stderr",
     "output_type": "stream",
     "text": [
      "/Users/mbadenas/anaconda3/lib/python3.6/site-packages/ipykernel_launcher.py:30: RuntimeWarning: invalid value encountered in sqrt\n",
      "/Users/mbadenas/anaconda3/lib/python3.6/site-packages/scipy/integrate/quadpack.py:364: IntegrationWarning: The occurrence of roundoff error is detected, which prevents \n",
      "  the requested tolerance from being achieved.  The error may be \n",
      "  underestimated.\n",
      "  warnings.warn(msg, IntegrationWarning)\n"
     ]
    },
    {
     "ename": "KeyboardInterrupt",
     "evalue": "",
     "output_type": "error",
     "traceback": [
      "\u001b[0;31m---------------------------------------------------------------------------\u001b[0m",
      "\u001b[0;31mKeyboardInterrupt\u001b[0m                         Traceback (most recent call last)",
      "\u001b[0;32m<ipython-input-59-b096b2e8cb08>\u001b[0m in \u001b[0;36m<module>\u001b[0;34m()\u001b[0m\n\u001b[0;32m----> 1\u001b[0;31m \u001b[0mchi2_w_sys_lc_res\u001b[0m \u001b[0;34m=\u001b[0m \u001b[0mopt\u001b[0m\u001b[0;34m.\u001b[0m\u001b[0mminimize\u001b[0m\u001b[0;34m(\u001b[0m\u001b[0mchi2_sys_wLCDM\u001b[0m\u001b[0;34m,\u001b[0m\u001b[0;34m(\u001b[0m\u001b[0;36m0.1\u001b[0m\u001b[0;34m,\u001b[0m\u001b[0;36m2.5\u001b[0m\u001b[0;34m,\u001b[0m\u001b[0;34m-\u001b[0m\u001b[0;36m19.3\u001b[0m\u001b[0;34m,\u001b[0m\u001b[0;36m.7\u001b[0m\u001b[0;34m,\u001b[0m\u001b[0;34m-\u001b[0m\u001b[0;36m1.\u001b[0m\u001b[0;34m)\u001b[0m\u001b[0;34m)\u001b[0m\u001b[0;34m\u001b[0m\u001b[0m\n\u001b[0m",
      "\u001b[0;32m~/anaconda3/lib/python3.6/site-packages/scipy/optimize/_minimize.py\u001b[0m in \u001b[0;36mminimize\u001b[0;34m(fun, x0, args, method, jac, hess, hessp, bounds, constraints, tol, callback, options)\u001b[0m\n\u001b[1;32m    479\u001b[0m         \u001b[0;32mreturn\u001b[0m \u001b[0m_minimize_cg\u001b[0m\u001b[0;34m(\u001b[0m\u001b[0mfun\u001b[0m\u001b[0;34m,\u001b[0m \u001b[0mx0\u001b[0m\u001b[0;34m,\u001b[0m \u001b[0margs\u001b[0m\u001b[0;34m,\u001b[0m \u001b[0mjac\u001b[0m\u001b[0;34m,\u001b[0m \u001b[0mcallback\u001b[0m\u001b[0;34m,\u001b[0m \u001b[0;34m**\u001b[0m\u001b[0moptions\u001b[0m\u001b[0;34m)\u001b[0m\u001b[0;34m\u001b[0m\u001b[0m\n\u001b[1;32m    480\u001b[0m     \u001b[0;32melif\u001b[0m \u001b[0mmeth\u001b[0m \u001b[0;34m==\u001b[0m \u001b[0;34m'bfgs'\u001b[0m\u001b[0;34m:\u001b[0m\u001b[0;34m\u001b[0m\u001b[0m\n\u001b[0;32m--> 481\u001b[0;31m         \u001b[0;32mreturn\u001b[0m \u001b[0m_minimize_bfgs\u001b[0m\u001b[0;34m(\u001b[0m\u001b[0mfun\u001b[0m\u001b[0;34m,\u001b[0m \u001b[0mx0\u001b[0m\u001b[0;34m,\u001b[0m \u001b[0margs\u001b[0m\u001b[0;34m,\u001b[0m \u001b[0mjac\u001b[0m\u001b[0;34m,\u001b[0m \u001b[0mcallback\u001b[0m\u001b[0;34m,\u001b[0m \u001b[0;34m**\u001b[0m\u001b[0moptions\u001b[0m\u001b[0;34m)\u001b[0m\u001b[0;34m\u001b[0m\u001b[0m\n\u001b[0m\u001b[1;32m    482\u001b[0m     \u001b[0;32melif\u001b[0m \u001b[0mmeth\u001b[0m \u001b[0;34m==\u001b[0m \u001b[0;34m'newton-cg'\u001b[0m\u001b[0;34m:\u001b[0m\u001b[0;34m\u001b[0m\u001b[0m\n\u001b[1;32m    483\u001b[0m         return _minimize_newtoncg(fun, x0, args, jac, hess, hessp, callback,\n",
      "\u001b[0;32m~/anaconda3/lib/python3.6/site-packages/scipy/optimize/optimize.py\u001b[0m in \u001b[0;36m_minimize_bfgs\u001b[0;34m(fun, x0, args, jac, callback, gtol, norm, eps, maxiter, disp, return_all, **unknown_options)\u001b[0m\n\u001b[1;32m    962\u001b[0m             \u001b[0malpha_k\u001b[0m\u001b[0;34m,\u001b[0m \u001b[0mfc\u001b[0m\u001b[0;34m,\u001b[0m \u001b[0mgc\u001b[0m\u001b[0;34m,\u001b[0m \u001b[0mold_fval\u001b[0m\u001b[0;34m,\u001b[0m \u001b[0mold_old_fval\u001b[0m\u001b[0;34m,\u001b[0m \u001b[0mgfkp1\u001b[0m \u001b[0;34m=\u001b[0m\u001b[0;31m \u001b[0m\u001b[0;31m\\\u001b[0m\u001b[0;34m\u001b[0m\u001b[0m\n\u001b[1;32m    963\u001b[0m                      _line_search_wolfe12(f, myfprime, xk, pk, gfk,\n\u001b[0;32m--> 964\u001b[0;31m                                           old_fval, old_old_fval, amin=1e-100, amax=1e100)\n\u001b[0m\u001b[1;32m    965\u001b[0m         \u001b[0;32mexcept\u001b[0m \u001b[0m_LineSearchError\u001b[0m\u001b[0;34m:\u001b[0m\u001b[0;34m\u001b[0m\u001b[0m\n\u001b[1;32m    966\u001b[0m             \u001b[0;31m# Line search failed to find a better solution.\u001b[0m\u001b[0;34m\u001b[0m\u001b[0;34m\u001b[0m\u001b[0m\n",
      "\u001b[0;32m~/anaconda3/lib/python3.6/site-packages/scipy/optimize/optimize.py\u001b[0m in \u001b[0;36m_line_search_wolfe12\u001b[0;34m(f, fprime, xk, pk, gfk, old_fval, old_old_fval, **kwargs)\u001b[0m\n\u001b[1;32m    781\u001b[0m     ret = line_search_wolfe1(f, fprime, xk, pk, gfk,\n\u001b[1;32m    782\u001b[0m                              \u001b[0mold_fval\u001b[0m\u001b[0;34m,\u001b[0m \u001b[0mold_old_fval\u001b[0m\u001b[0;34m,\u001b[0m\u001b[0;34m\u001b[0m\u001b[0m\n\u001b[0;32m--> 783\u001b[0;31m                              **kwargs)\n\u001b[0m\u001b[1;32m    784\u001b[0m \u001b[0;34m\u001b[0m\u001b[0m\n\u001b[1;32m    785\u001b[0m     \u001b[0;32mif\u001b[0m \u001b[0mret\u001b[0m\u001b[0;34m[\u001b[0m\u001b[0;36m0\u001b[0m\u001b[0;34m]\u001b[0m \u001b[0;32mis\u001b[0m \u001b[0;32mnot\u001b[0m \u001b[0;32mNone\u001b[0m \u001b[0;32mand\u001b[0m \u001b[0mextra_condition\u001b[0m \u001b[0;32mis\u001b[0m \u001b[0;32mnot\u001b[0m \u001b[0;32mNone\u001b[0m\u001b[0;34m:\u001b[0m\u001b[0;34m\u001b[0m\u001b[0m\n",
      "\u001b[0;32m~/anaconda3/lib/python3.6/site-packages/scipy/optimize/linesearch.py\u001b[0m in \u001b[0;36mline_search_wolfe1\u001b[0;34m(f, fprime, xk, pk, gfk, old_fval, old_old_fval, args, c1, c2, amax, amin, xtol)\u001b[0m\n\u001b[1;32m     99\u001b[0m     stp, fval, old_fval = scalar_search_wolfe1(\n\u001b[1;32m    100\u001b[0m             \u001b[0mphi\u001b[0m\u001b[0;34m,\u001b[0m \u001b[0mderphi\u001b[0m\u001b[0;34m,\u001b[0m \u001b[0mold_fval\u001b[0m\u001b[0;34m,\u001b[0m \u001b[0mold_old_fval\u001b[0m\u001b[0;34m,\u001b[0m \u001b[0mderphi0\u001b[0m\u001b[0;34m,\u001b[0m\u001b[0;34m\u001b[0m\u001b[0m\n\u001b[0;32m--> 101\u001b[0;31m             c1=c1, c2=c2, amax=amax, amin=amin, xtol=xtol)\n\u001b[0m\u001b[1;32m    102\u001b[0m \u001b[0;34m\u001b[0m\u001b[0m\n\u001b[1;32m    103\u001b[0m     \u001b[0;32mreturn\u001b[0m \u001b[0mstp\u001b[0m\u001b[0;34m,\u001b[0m \u001b[0mfc\u001b[0m\u001b[0;34m[\u001b[0m\u001b[0;36m0\u001b[0m\u001b[0;34m]\u001b[0m\u001b[0;34m,\u001b[0m \u001b[0mgc\u001b[0m\u001b[0;34m[\u001b[0m\u001b[0;36m0\u001b[0m\u001b[0;34m]\u001b[0m\u001b[0;34m,\u001b[0m \u001b[0mfval\u001b[0m\u001b[0;34m,\u001b[0m \u001b[0mold_fval\u001b[0m\u001b[0;34m,\u001b[0m \u001b[0mgval\u001b[0m\u001b[0;34m[\u001b[0m\u001b[0;36m0\u001b[0m\u001b[0;34m]\u001b[0m\u001b[0;34m\u001b[0m\u001b[0m\n",
      "\u001b[0;32m~/anaconda3/lib/python3.6/site-packages/scipy/optimize/linesearch.py\u001b[0m in \u001b[0;36mscalar_search_wolfe1\u001b[0;34m(phi, derphi, phi0, old_phi0, derphi0, c1, c2, amax, amin, xtol)\u001b[0m\n\u001b[1;32m    173\u001b[0m             \u001b[0malpha1\u001b[0m \u001b[0;34m=\u001b[0m \u001b[0mstp\u001b[0m\u001b[0;34m\u001b[0m\u001b[0m\n\u001b[1;32m    174\u001b[0m             \u001b[0mphi1\u001b[0m \u001b[0;34m=\u001b[0m \u001b[0mphi\u001b[0m\u001b[0;34m(\u001b[0m\u001b[0mstp\u001b[0m\u001b[0;34m)\u001b[0m\u001b[0;34m\u001b[0m\u001b[0m\n\u001b[0;32m--> 175\u001b[0;31m             \u001b[0mderphi1\u001b[0m \u001b[0;34m=\u001b[0m \u001b[0mderphi\u001b[0m\u001b[0;34m(\u001b[0m\u001b[0mstp\u001b[0m\u001b[0;34m)\u001b[0m\u001b[0;34m\u001b[0m\u001b[0m\n\u001b[0m\u001b[1;32m    176\u001b[0m         \u001b[0;32melse\u001b[0m\u001b[0;34m:\u001b[0m\u001b[0;34m\u001b[0m\u001b[0m\n\u001b[1;32m    177\u001b[0m             \u001b[0;32mbreak\u001b[0m\u001b[0;34m\u001b[0m\u001b[0m\n",
      "\u001b[0;32m~/anaconda3/lib/python3.6/site-packages/scipy/optimize/linesearch.py\u001b[0m in \u001b[0;36mderphi\u001b[0;34m(s)\u001b[0m\n\u001b[1;32m     88\u001b[0m \u001b[0;34m\u001b[0m\u001b[0m\n\u001b[1;32m     89\u001b[0m     \u001b[0;32mdef\u001b[0m \u001b[0mderphi\u001b[0m\u001b[0;34m(\u001b[0m\u001b[0ms\u001b[0m\u001b[0;34m)\u001b[0m\u001b[0;34m:\u001b[0m\u001b[0;34m\u001b[0m\u001b[0m\n\u001b[0;32m---> 90\u001b[0;31m         \u001b[0mgval\u001b[0m\u001b[0;34m[\u001b[0m\u001b[0;36m0\u001b[0m\u001b[0;34m]\u001b[0m \u001b[0;34m=\u001b[0m \u001b[0mfprime\u001b[0m\u001b[0;34m(\u001b[0m\u001b[0mxk\u001b[0m \u001b[0;34m+\u001b[0m \u001b[0ms\u001b[0m\u001b[0;34m*\u001b[0m\u001b[0mpk\u001b[0m\u001b[0;34m,\u001b[0m \u001b[0;34m*\u001b[0m\u001b[0mnewargs\u001b[0m\u001b[0;34m)\u001b[0m\u001b[0;34m\u001b[0m\u001b[0m\n\u001b[0m\u001b[1;32m     91\u001b[0m         \u001b[0;32mif\u001b[0m \u001b[0mgradient\u001b[0m\u001b[0;34m:\u001b[0m\u001b[0;34m\u001b[0m\u001b[0m\n\u001b[1;32m     92\u001b[0m             \u001b[0mgc\u001b[0m\u001b[0;34m[\u001b[0m\u001b[0;36m0\u001b[0m\u001b[0;34m]\u001b[0m \u001b[0;34m+=\u001b[0m \u001b[0;36m1\u001b[0m\u001b[0;34m\u001b[0m\u001b[0m\n",
      "\u001b[0;32m~/anaconda3/lib/python3.6/site-packages/scipy/optimize/optimize.py\u001b[0m in \u001b[0;36mfunction_wrapper\u001b[0;34m(*wrapper_args)\u001b[0m\n\u001b[1;32m    290\u001b[0m     \u001b[0;32mdef\u001b[0m \u001b[0mfunction_wrapper\u001b[0m\u001b[0;34m(\u001b[0m\u001b[0;34m*\u001b[0m\u001b[0mwrapper_args\u001b[0m\u001b[0;34m)\u001b[0m\u001b[0;34m:\u001b[0m\u001b[0;34m\u001b[0m\u001b[0m\n\u001b[1;32m    291\u001b[0m         \u001b[0mncalls\u001b[0m\u001b[0;34m[\u001b[0m\u001b[0;36m0\u001b[0m\u001b[0;34m]\u001b[0m \u001b[0;34m+=\u001b[0m \u001b[0;36m1\u001b[0m\u001b[0;34m\u001b[0m\u001b[0m\n\u001b[0;32m--> 292\u001b[0;31m         \u001b[0;32mreturn\u001b[0m \u001b[0mfunction\u001b[0m\u001b[0;34m(\u001b[0m\u001b[0;34m*\u001b[0m\u001b[0;34m(\u001b[0m\u001b[0mwrapper_args\u001b[0m \u001b[0;34m+\u001b[0m \u001b[0margs\u001b[0m\u001b[0;34m)\u001b[0m\u001b[0;34m)\u001b[0m\u001b[0;34m\u001b[0m\u001b[0m\n\u001b[0m\u001b[1;32m    293\u001b[0m \u001b[0;34m\u001b[0m\u001b[0m\n\u001b[1;32m    294\u001b[0m     \u001b[0;32mreturn\u001b[0m \u001b[0mncalls\u001b[0m\u001b[0;34m,\u001b[0m \u001b[0mfunction_wrapper\u001b[0m\u001b[0;34m\u001b[0m\u001b[0m\n",
      "\u001b[0;32m~/anaconda3/lib/python3.6/site-packages/scipy/optimize/optimize.py\u001b[0m in \u001b[0;36mapprox_fprime\u001b[0;34m(xk, f, epsilon, *args)\u001b[0m\n\u001b[1;32m    701\u001b[0m \u001b[0;34m\u001b[0m\u001b[0m\n\u001b[1;32m    702\u001b[0m     \"\"\"\n\u001b[0;32m--> 703\u001b[0;31m     \u001b[0;32mreturn\u001b[0m \u001b[0m_approx_fprime_helper\u001b[0m\u001b[0;34m(\u001b[0m\u001b[0mxk\u001b[0m\u001b[0;34m,\u001b[0m \u001b[0mf\u001b[0m\u001b[0;34m,\u001b[0m \u001b[0mepsilon\u001b[0m\u001b[0;34m,\u001b[0m \u001b[0margs\u001b[0m\u001b[0;34m=\u001b[0m\u001b[0margs\u001b[0m\u001b[0;34m)\u001b[0m\u001b[0;34m\u001b[0m\u001b[0m\n\u001b[0m\u001b[1;32m    704\u001b[0m \u001b[0;34m\u001b[0m\u001b[0m\n\u001b[1;32m    705\u001b[0m \u001b[0;34m\u001b[0m\u001b[0m\n",
      "\u001b[0;32m~/anaconda3/lib/python3.6/site-packages/scipy/optimize/optimize.py\u001b[0m in \u001b[0;36m_approx_fprime_helper\u001b[0;34m(xk, f, epsilon, args, f0)\u001b[0m\n\u001b[1;32m    641\u001b[0m         \u001b[0mei\u001b[0m\u001b[0;34m[\u001b[0m\u001b[0mk\u001b[0m\u001b[0;34m]\u001b[0m \u001b[0;34m=\u001b[0m \u001b[0;36m1.0\u001b[0m\u001b[0;34m\u001b[0m\u001b[0m\n\u001b[1;32m    642\u001b[0m         \u001b[0md\u001b[0m \u001b[0;34m=\u001b[0m \u001b[0mepsilon\u001b[0m \u001b[0;34m*\u001b[0m \u001b[0mei\u001b[0m\u001b[0;34m\u001b[0m\u001b[0m\n\u001b[0;32m--> 643\u001b[0;31m         \u001b[0mgrad\u001b[0m\u001b[0;34m[\u001b[0m\u001b[0mk\u001b[0m\u001b[0;34m]\u001b[0m \u001b[0;34m=\u001b[0m \u001b[0;34m(\u001b[0m\u001b[0mf\u001b[0m\u001b[0;34m(\u001b[0m\u001b[0;34m*\u001b[0m\u001b[0;34m(\u001b[0m\u001b[0;34m(\u001b[0m\u001b[0mxk\u001b[0m \u001b[0;34m+\u001b[0m \u001b[0md\u001b[0m\u001b[0;34m,\u001b[0m\u001b[0;34m)\u001b[0m \u001b[0;34m+\u001b[0m \u001b[0margs\u001b[0m\u001b[0;34m)\u001b[0m\u001b[0;34m)\u001b[0m \u001b[0;34m-\u001b[0m \u001b[0mf0\u001b[0m\u001b[0;34m)\u001b[0m \u001b[0;34m/\u001b[0m \u001b[0md\u001b[0m\u001b[0;34m[\u001b[0m\u001b[0mk\u001b[0m\u001b[0;34m]\u001b[0m\u001b[0;34m\u001b[0m\u001b[0m\n\u001b[0m\u001b[1;32m    644\u001b[0m         \u001b[0mei\u001b[0m\u001b[0;34m[\u001b[0m\u001b[0mk\u001b[0m\u001b[0;34m]\u001b[0m \u001b[0;34m=\u001b[0m \u001b[0;36m0.0\u001b[0m\u001b[0;34m\u001b[0m\u001b[0m\n\u001b[1;32m    645\u001b[0m     \u001b[0;32mreturn\u001b[0m \u001b[0mgrad\u001b[0m\u001b[0;34m\u001b[0m\u001b[0m\n",
      "\u001b[0;32m~/anaconda3/lib/python3.6/site-packages/scipy/optimize/optimize.py\u001b[0m in \u001b[0;36mfunction_wrapper\u001b[0;34m(*wrapper_args)\u001b[0m\n\u001b[1;32m    290\u001b[0m     \u001b[0;32mdef\u001b[0m \u001b[0mfunction_wrapper\u001b[0m\u001b[0;34m(\u001b[0m\u001b[0;34m*\u001b[0m\u001b[0mwrapper_args\u001b[0m\u001b[0;34m)\u001b[0m\u001b[0;34m:\u001b[0m\u001b[0;34m\u001b[0m\u001b[0m\n\u001b[1;32m    291\u001b[0m         \u001b[0mncalls\u001b[0m\u001b[0;34m[\u001b[0m\u001b[0;36m0\u001b[0m\u001b[0;34m]\u001b[0m \u001b[0;34m+=\u001b[0m \u001b[0;36m1\u001b[0m\u001b[0;34m\u001b[0m\u001b[0m\n\u001b[0;32m--> 292\u001b[0;31m         \u001b[0;32mreturn\u001b[0m \u001b[0mfunction\u001b[0m\u001b[0;34m(\u001b[0m\u001b[0;34m*\u001b[0m\u001b[0;34m(\u001b[0m\u001b[0mwrapper_args\u001b[0m \u001b[0;34m+\u001b[0m \u001b[0margs\u001b[0m\u001b[0;34m)\u001b[0m\u001b[0;34m)\u001b[0m\u001b[0;34m\u001b[0m\u001b[0m\n\u001b[0m\u001b[1;32m    293\u001b[0m \u001b[0;34m\u001b[0m\u001b[0m\n\u001b[1;32m    294\u001b[0m     \u001b[0;32mreturn\u001b[0m \u001b[0mncalls\u001b[0m\u001b[0;34m,\u001b[0m \u001b[0mfunction_wrapper\u001b[0m\u001b[0;34m\u001b[0m\u001b[0m\n",
      "\u001b[0;32m<ipython-input-58-53f0495fb9c4>\u001b[0m in \u001b[0;36mchi2_sys_wLCDM\u001b[0;34m(x, mode, data, Csys, Cext, Cinv_sys)\u001b[0m\n\u001b[1;32m      3\u001b[0m     \u001b[0mOm\u001b[0m \u001b[0;34m=\u001b[0m \u001b[0;36m1\u001b[0m\u001b[0;34m-\u001b[0m\u001b[0mOde\u001b[0m\u001b[0;34m\u001b[0m\u001b[0m\n\u001b[1;32m      4\u001b[0m     \u001b[0mmu_B\u001b[0m \u001b[0;34m=\u001b[0m \u001b[0mdata\u001b[0m\u001b[0;34m[\u001b[0m\u001b[0;34m'mb'\u001b[0m\u001b[0;34m]\u001b[0m\u001b[0;34m+\u001b[0m\u001b[0malfa\u001b[0m\u001b[0;34m*\u001b[0m\u001b[0mdata\u001b[0m\u001b[0;34m[\u001b[0m\u001b[0;34m'x1'\u001b[0m\u001b[0;34m]\u001b[0m\u001b[0;34m-\u001b[0m\u001b[0mbeta\u001b[0m\u001b[0;34m*\u001b[0m\u001b[0mdata\u001b[0m\u001b[0;34m[\u001b[0m\u001b[0;34m'color'\u001b[0m\u001b[0;34m]\u001b[0m\u001b[0;34m-\u001b[0m\u001b[0mMb\u001b[0m\u001b[0;34m\u001b[0m\u001b[0m\n\u001b[0;32m----> 5\u001b[0;31m     \u001b[0mmu_cosmo\u001b[0m \u001b[0;34m=\u001b[0m \u001b[0mdist_mod\u001b[0m\u001b[0;34m(\u001b[0m\u001b[0mdata\u001b[0m\u001b[0;34m[\u001b[0m\u001b[0;34m'z'\u001b[0m\u001b[0;34m]\u001b[0m\u001b[0;34m,\u001b[0m\u001b[0mHz_w_cte\u001b[0m\u001b[0;34m,\u001b[0m\u001b[0;34m(\u001b[0m\u001b[0mOde\u001b[0m\u001b[0;34m,\u001b[0m\u001b[0mw\u001b[0m\u001b[0;34m)\u001b[0m\u001b[0;34m)\u001b[0m\u001b[0;34m\u001b[0m\u001b[0m\n\u001b[0m\u001b[1;32m      6\u001b[0m     \u001b[0mmu_diff\u001b[0m \u001b[0;34m=\u001b[0m \u001b[0;34m(\u001b[0m\u001b[0mmu_B\u001b[0m\u001b[0;34m-\u001b[0m\u001b[0mmu_cosmo\u001b[0m\u001b[0;34m)\u001b[0m\u001b[0;34m**\u001b[0m\u001b[0;36m2\u001b[0m\u001b[0;34m\u001b[0m\u001b[0m\n\u001b[1;32m      7\u001b[0m     \u001b[0msigma2_lc\u001b[0m \u001b[0;34m=\u001b[0m \u001b[0mdata\u001b[0m\u001b[0;34m[\u001b[0m\u001b[0;34m'err_mb'\u001b[0m\u001b[0;34m]\u001b[0m\u001b[0;34m**\u001b[0m\u001b[0;36m2\u001b[0m\u001b[0;34m+\u001b[0m\u001b[0malfa\u001b[0m\u001b[0;34m**\u001b[0m\u001b[0;36m2\u001b[0m\u001b[0;34m*\u001b[0m\u001b[0mdata\u001b[0m\u001b[0;34m[\u001b[0m\u001b[0;34m'err_x1'\u001b[0m\u001b[0;34m]\u001b[0m\u001b[0;34m**\u001b[0m\u001b[0;36m2\u001b[0m\u001b[0;34m+\u001b[0m\u001b[0mbeta\u001b[0m\u001b[0;34m**\u001b[0m\u001b[0;36m2\u001b[0m\u001b[0;34m*\u001b[0m\u001b[0mdata\u001b[0m\u001b[0;34m[\u001b[0m\u001b[0;34m'err_color'\u001b[0m\u001b[0;34m]\u001b[0m\u001b[0;34m**\u001b[0m\u001b[0;36m2\u001b[0m\u001b[0;34m\u001b[0m\u001b[0m\n",
      "\u001b[0;32m<ipython-input-19-c9b064225f8d>\u001b[0m in \u001b[0;36mdist_mod\u001b[0;34m(z, Hz_fun, args)\u001b[0m\n\u001b[1;32m      7\u001b[0m \u001b[0;34m\u001b[0m\u001b[0m\n\u001b[1;32m      8\u001b[0m \u001b[0;32mdef\u001b[0m \u001b[0mdist_mod\u001b[0m\u001b[0;34m(\u001b[0m\u001b[0mz\u001b[0m\u001b[0;34m,\u001b[0m\u001b[0mHz_fun\u001b[0m\u001b[0;34m,\u001b[0m\u001b[0margs\u001b[0m\u001b[0;34m)\u001b[0m\u001b[0;34m:\u001b[0m\u001b[0;34m\u001b[0m\u001b[0m\n\u001b[0;32m----> 9\u001b[0;31m     \u001b[0mD_L\u001b[0m \u001b[0;34m=\u001b[0m \u001b[0mdist_lum\u001b[0m\u001b[0;34m(\u001b[0m\u001b[0mz\u001b[0m\u001b[0;34m,\u001b[0m\u001b[0mHz_fun\u001b[0m\u001b[0;34m,\u001b[0m\u001b[0margs\u001b[0m\u001b[0;34m)\u001b[0m\u001b[0;34m\u001b[0m\u001b[0m\n\u001b[0m\u001b[1;32m     10\u001b[0m     \u001b[0;32mreturn\u001b[0m \u001b[0;36m5\u001b[0m\u001b[0;34m*\u001b[0m\u001b[0mnp\u001b[0m\u001b[0;34m.\u001b[0m\u001b[0mlog10\u001b[0m\u001b[0;34m(\u001b[0m\u001b[0mD_L\u001b[0m\u001b[0;34m)\u001b[0m\u001b[0;34m+\u001b[0m\u001b[0;36m25\u001b[0m\u001b[0;34m\u001b[0m\u001b[0m\n\u001b[1;32m     11\u001b[0m \u001b[0;34m\u001b[0m\u001b[0m\n",
      "\u001b[0;32m<ipython-input-19-c9b064225f8d>\u001b[0m in \u001b[0;36mdist_lum\u001b[0;34m(z, Hz_fun, args)\u001b[0m\n\u001b[1;32m      4\u001b[0m \u001b[0;34m\u001b[0m\u001b[0m\n\u001b[1;32m      5\u001b[0m \u001b[0;32mdef\u001b[0m \u001b[0mdist_lum\u001b[0m\u001b[0;34m(\u001b[0m\u001b[0mz\u001b[0m\u001b[0;34m,\u001b[0m\u001b[0mHz_fun\u001b[0m\u001b[0;34m,\u001b[0m\u001b[0margs\u001b[0m\u001b[0;34m)\u001b[0m\u001b[0;34m:\u001b[0m\u001b[0;34m\u001b[0m\u001b[0m\n\u001b[0;32m----> 6\u001b[0;31m     \u001b[0;32mreturn\u001b[0m \u001b[0mchi\u001b[0m\u001b[0;34m(\u001b[0m\u001b[0mz\u001b[0m\u001b[0;34m,\u001b[0m\u001b[0mHz_fun\u001b[0m\u001b[0;34m,\u001b[0m\u001b[0margs\u001b[0m\u001b[0;34m)\u001b[0m\u001b[0;34m*\u001b[0m\u001b[0;34m(\u001b[0m\u001b[0;36m1\u001b[0m\u001b[0;34m+\u001b[0m\u001b[0mz\u001b[0m\u001b[0;34m)\u001b[0m\u001b[0;34m\u001b[0m\u001b[0m\n\u001b[0m\u001b[1;32m      7\u001b[0m \u001b[0;34m\u001b[0m\u001b[0m\n\u001b[1;32m      8\u001b[0m \u001b[0;32mdef\u001b[0m \u001b[0mdist_mod\u001b[0m\u001b[0;34m(\u001b[0m\u001b[0mz\u001b[0m\u001b[0;34m,\u001b[0m\u001b[0mHz_fun\u001b[0m\u001b[0;34m,\u001b[0m\u001b[0margs\u001b[0m\u001b[0;34m)\u001b[0m\u001b[0;34m:\u001b[0m\u001b[0;34m\u001b[0m\u001b[0m\n",
      "\u001b[0;32m<ipython-input-19-c9b064225f8d>\u001b[0m in \u001b[0;36mchi\u001b[0;34m(zvec, Hz_fun, args)\u001b[0m\n\u001b[1;32m      1\u001b[0m \u001b[0;32mdef\u001b[0m \u001b[0mchi\u001b[0m\u001b[0;34m(\u001b[0m\u001b[0mzvec\u001b[0m\u001b[0;34m,\u001b[0m\u001b[0mHz_fun\u001b[0m\u001b[0;34m,\u001b[0m\u001b[0margs\u001b[0m\u001b[0;34m)\u001b[0m\u001b[0;34m:\u001b[0m\u001b[0;34m\u001b[0m\u001b[0m\n\u001b[0;32m----> 2\u001b[0;31m     \u001b[0mchi\u001b[0m \u001b[0;34m=\u001b[0m \u001b[0mconst\u001b[0m\u001b[0;34m.\u001b[0m\u001b[0mc\u001b[0m\u001b[0;34m/\u001b[0m\u001b[0;36m1000\u001b[0m\u001b[0;34m*\u001b[0m\u001b[0mnp\u001b[0m\u001b[0;34m.\u001b[0m\u001b[0marray\u001b[0m\u001b[0;34m(\u001b[0m\u001b[0;34m[\u001b[0m\u001b[0mpyint\u001b[0m\u001b[0;34m.\u001b[0m\u001b[0mquad\u001b[0m\u001b[0;34m(\u001b[0m\u001b[0;32mlambda\u001b[0m \u001b[0mzz\u001b[0m\u001b[0;34m:\u001b[0m \u001b[0;36m1.\u001b[0m\u001b[0;34m/\u001b[0m\u001b[0mHz_fun\u001b[0m\u001b[0;34m(\u001b[0m\u001b[0mzz\u001b[0m\u001b[0;34m,\u001b[0m\u001b[0;34m*\u001b[0m\u001b[0margs\u001b[0m\u001b[0;34m)\u001b[0m\u001b[0;34m,\u001b[0m\u001b[0;36m0\u001b[0m\u001b[0;34m,\u001b[0m\u001b[0mz\u001b[0m\u001b[0;34m)\u001b[0m\u001b[0;34m[\u001b[0m\u001b[0;36m0\u001b[0m\u001b[0;34m]\u001b[0m \u001b[0;32mfor\u001b[0m \u001b[0mz\u001b[0m \u001b[0;32min\u001b[0m \u001b[0mzvec\u001b[0m\u001b[0;34m]\u001b[0m\u001b[0;34m)\u001b[0m\u001b[0;34m\u001b[0m\u001b[0m\n\u001b[0m\u001b[1;32m      3\u001b[0m     \u001b[0;32mreturn\u001b[0m \u001b[0mchi\u001b[0m\u001b[0;34m\u001b[0m\u001b[0m\n\u001b[1;32m      4\u001b[0m \u001b[0;34m\u001b[0m\u001b[0m\n\u001b[1;32m      5\u001b[0m \u001b[0;32mdef\u001b[0m \u001b[0mdist_lum\u001b[0m\u001b[0;34m(\u001b[0m\u001b[0mz\u001b[0m\u001b[0;34m,\u001b[0m\u001b[0mHz_fun\u001b[0m\u001b[0;34m,\u001b[0m\u001b[0margs\u001b[0m\u001b[0;34m)\u001b[0m\u001b[0;34m:\u001b[0m\u001b[0;34m\u001b[0m\u001b[0m\n",
      "\u001b[0;32m<ipython-input-19-c9b064225f8d>\u001b[0m in \u001b[0;36m<listcomp>\u001b[0;34m(.0)\u001b[0m\n\u001b[1;32m      1\u001b[0m \u001b[0;32mdef\u001b[0m \u001b[0mchi\u001b[0m\u001b[0;34m(\u001b[0m\u001b[0mzvec\u001b[0m\u001b[0;34m,\u001b[0m\u001b[0mHz_fun\u001b[0m\u001b[0;34m,\u001b[0m\u001b[0margs\u001b[0m\u001b[0;34m)\u001b[0m\u001b[0;34m:\u001b[0m\u001b[0;34m\u001b[0m\u001b[0m\n\u001b[0;32m----> 2\u001b[0;31m     \u001b[0mchi\u001b[0m \u001b[0;34m=\u001b[0m \u001b[0mconst\u001b[0m\u001b[0;34m.\u001b[0m\u001b[0mc\u001b[0m\u001b[0;34m/\u001b[0m\u001b[0;36m1000\u001b[0m\u001b[0;34m*\u001b[0m\u001b[0mnp\u001b[0m\u001b[0;34m.\u001b[0m\u001b[0marray\u001b[0m\u001b[0;34m(\u001b[0m\u001b[0;34m[\u001b[0m\u001b[0mpyint\u001b[0m\u001b[0;34m.\u001b[0m\u001b[0mquad\u001b[0m\u001b[0;34m(\u001b[0m\u001b[0;32mlambda\u001b[0m \u001b[0mzz\u001b[0m\u001b[0;34m:\u001b[0m \u001b[0;36m1.\u001b[0m\u001b[0;34m/\u001b[0m\u001b[0mHz_fun\u001b[0m\u001b[0;34m(\u001b[0m\u001b[0mzz\u001b[0m\u001b[0;34m,\u001b[0m\u001b[0;34m*\u001b[0m\u001b[0margs\u001b[0m\u001b[0;34m)\u001b[0m\u001b[0;34m,\u001b[0m\u001b[0;36m0\u001b[0m\u001b[0;34m,\u001b[0m\u001b[0mz\u001b[0m\u001b[0;34m)\u001b[0m\u001b[0;34m[\u001b[0m\u001b[0;36m0\u001b[0m\u001b[0;34m]\u001b[0m \u001b[0;32mfor\u001b[0m \u001b[0mz\u001b[0m \u001b[0;32min\u001b[0m \u001b[0mzvec\u001b[0m\u001b[0;34m]\u001b[0m\u001b[0;34m)\u001b[0m\u001b[0;34m\u001b[0m\u001b[0m\n\u001b[0m\u001b[1;32m      3\u001b[0m     \u001b[0;32mreturn\u001b[0m \u001b[0mchi\u001b[0m\u001b[0;34m\u001b[0m\u001b[0m\n\u001b[1;32m      4\u001b[0m \u001b[0;34m\u001b[0m\u001b[0m\n\u001b[1;32m      5\u001b[0m \u001b[0;32mdef\u001b[0m \u001b[0mdist_lum\u001b[0m\u001b[0;34m(\u001b[0m\u001b[0mz\u001b[0m\u001b[0;34m,\u001b[0m\u001b[0mHz_fun\u001b[0m\u001b[0;34m,\u001b[0m\u001b[0margs\u001b[0m\u001b[0;34m)\u001b[0m\u001b[0;34m:\u001b[0m\u001b[0;34m\u001b[0m\u001b[0m\n",
      "\u001b[0;32m~/anaconda3/lib/python3.6/site-packages/scipy/integrate/quadpack.py\u001b[0m in \u001b[0;36mquad\u001b[0;34m(func, a, b, args, full_output, epsabs, epsrel, limit, points, weight, wvar, wopts, maxp1, limlst)\u001b[0m\n\u001b[1;32m    321\u001b[0m     \u001b[0;32mif\u001b[0m \u001b[0;34m(\u001b[0m\u001b[0mweight\u001b[0m \u001b[0;32mis\u001b[0m \u001b[0;32mNone\u001b[0m\u001b[0;34m)\u001b[0m\u001b[0;34m:\u001b[0m\u001b[0;34m\u001b[0m\u001b[0m\n\u001b[1;32m    322\u001b[0m         retval = _quad(func, a, b, args, full_output, epsabs, epsrel, limit,\n\u001b[0;32m--> 323\u001b[0;31m                        points)\n\u001b[0m\u001b[1;32m    324\u001b[0m     \u001b[0;32melse\u001b[0m\u001b[0;34m:\u001b[0m\u001b[0;34m\u001b[0m\u001b[0m\n\u001b[1;32m    325\u001b[0m         retval = _quad_weight(func, a, b, args, full_output, epsabs, epsrel,\n",
      "\u001b[0;32m~/anaconda3/lib/python3.6/site-packages/scipy/integrate/quadpack.py\u001b[0m in \u001b[0;36m_quad\u001b[0;34m(func, a, b, args, full_output, epsabs, epsrel, limit, points)\u001b[0m\n\u001b[1;32m    386\u001b[0m     \u001b[0;32mif\u001b[0m \u001b[0mpoints\u001b[0m \u001b[0;32mis\u001b[0m \u001b[0;32mNone\u001b[0m\u001b[0;34m:\u001b[0m\u001b[0;34m\u001b[0m\u001b[0m\n\u001b[1;32m    387\u001b[0m         \u001b[0;32mif\u001b[0m \u001b[0minfbounds\u001b[0m \u001b[0;34m==\u001b[0m \u001b[0;36m0\u001b[0m\u001b[0;34m:\u001b[0m\u001b[0;34m\u001b[0m\u001b[0m\n\u001b[0;32m--> 388\u001b[0;31m             \u001b[0;32mreturn\u001b[0m \u001b[0m_quadpack\u001b[0m\u001b[0;34m.\u001b[0m\u001b[0m_qagse\u001b[0m\u001b[0;34m(\u001b[0m\u001b[0mfunc\u001b[0m\u001b[0;34m,\u001b[0m\u001b[0ma\u001b[0m\u001b[0;34m,\u001b[0m\u001b[0mb\u001b[0m\u001b[0;34m,\u001b[0m\u001b[0margs\u001b[0m\u001b[0;34m,\u001b[0m\u001b[0mfull_output\u001b[0m\u001b[0;34m,\u001b[0m\u001b[0mepsabs\u001b[0m\u001b[0;34m,\u001b[0m\u001b[0mepsrel\u001b[0m\u001b[0;34m,\u001b[0m\u001b[0mlimit\u001b[0m\u001b[0;34m)\u001b[0m\u001b[0;34m\u001b[0m\u001b[0m\n\u001b[0m\u001b[1;32m    389\u001b[0m         \u001b[0;32melse\u001b[0m\u001b[0;34m:\u001b[0m\u001b[0;34m\u001b[0m\u001b[0m\n\u001b[1;32m    390\u001b[0m             \u001b[0;32mreturn\u001b[0m \u001b[0m_quadpack\u001b[0m\u001b[0;34m.\u001b[0m\u001b[0m_qagie\u001b[0m\u001b[0;34m(\u001b[0m\u001b[0mfunc\u001b[0m\u001b[0;34m,\u001b[0m\u001b[0mbound\u001b[0m\u001b[0;34m,\u001b[0m\u001b[0minfbounds\u001b[0m\u001b[0;34m,\u001b[0m\u001b[0margs\u001b[0m\u001b[0;34m,\u001b[0m\u001b[0mfull_output\u001b[0m\u001b[0;34m,\u001b[0m\u001b[0mepsabs\u001b[0m\u001b[0;34m,\u001b[0m\u001b[0mepsrel\u001b[0m\u001b[0;34m,\u001b[0m\u001b[0mlimit\u001b[0m\u001b[0;34m)\u001b[0m\u001b[0;34m\u001b[0m\u001b[0m\n",
      "\u001b[0;32m<ipython-input-19-c9b064225f8d>\u001b[0m in \u001b[0;36m<lambda>\u001b[0;34m(zz)\u001b[0m\n\u001b[1;32m      1\u001b[0m \u001b[0;32mdef\u001b[0m \u001b[0mchi\u001b[0m\u001b[0;34m(\u001b[0m\u001b[0mzvec\u001b[0m\u001b[0;34m,\u001b[0m\u001b[0mHz_fun\u001b[0m\u001b[0;34m,\u001b[0m\u001b[0margs\u001b[0m\u001b[0;34m)\u001b[0m\u001b[0;34m:\u001b[0m\u001b[0;34m\u001b[0m\u001b[0m\n\u001b[0;32m----> 2\u001b[0;31m     \u001b[0mchi\u001b[0m \u001b[0;34m=\u001b[0m \u001b[0mconst\u001b[0m\u001b[0;34m.\u001b[0m\u001b[0mc\u001b[0m\u001b[0;34m/\u001b[0m\u001b[0;36m1000\u001b[0m\u001b[0;34m*\u001b[0m\u001b[0mnp\u001b[0m\u001b[0;34m.\u001b[0m\u001b[0marray\u001b[0m\u001b[0;34m(\u001b[0m\u001b[0;34m[\u001b[0m\u001b[0mpyint\u001b[0m\u001b[0;34m.\u001b[0m\u001b[0mquad\u001b[0m\u001b[0;34m(\u001b[0m\u001b[0;32mlambda\u001b[0m \u001b[0mzz\u001b[0m\u001b[0;34m:\u001b[0m \u001b[0;36m1.\u001b[0m\u001b[0;34m/\u001b[0m\u001b[0mHz_fun\u001b[0m\u001b[0;34m(\u001b[0m\u001b[0mzz\u001b[0m\u001b[0;34m,\u001b[0m\u001b[0;34m*\u001b[0m\u001b[0margs\u001b[0m\u001b[0;34m)\u001b[0m\u001b[0;34m,\u001b[0m\u001b[0;36m0\u001b[0m\u001b[0;34m,\u001b[0m\u001b[0mz\u001b[0m\u001b[0;34m)\u001b[0m\u001b[0;34m[\u001b[0m\u001b[0;36m0\u001b[0m\u001b[0;34m]\u001b[0m \u001b[0;32mfor\u001b[0m \u001b[0mz\u001b[0m \u001b[0;32min\u001b[0m \u001b[0mzvec\u001b[0m\u001b[0;34m]\u001b[0m\u001b[0;34m)\u001b[0m\u001b[0;34m\u001b[0m\u001b[0m\n\u001b[0m\u001b[1;32m      3\u001b[0m     \u001b[0;32mreturn\u001b[0m \u001b[0mchi\u001b[0m\u001b[0;34m\u001b[0m\u001b[0m\n\u001b[1;32m      4\u001b[0m \u001b[0;34m\u001b[0m\u001b[0m\n\u001b[1;32m      5\u001b[0m \u001b[0;32mdef\u001b[0m \u001b[0mdist_lum\u001b[0m\u001b[0;34m(\u001b[0m\u001b[0mz\u001b[0m\u001b[0;34m,\u001b[0m\u001b[0mHz_fun\u001b[0m\u001b[0;34m,\u001b[0m\u001b[0margs\u001b[0m\u001b[0;34m)\u001b[0m\u001b[0;34m:\u001b[0m\u001b[0;34m\u001b[0m\u001b[0m\n",
      "\u001b[0;32m<ipython-input-19-c9b064225f8d>\u001b[0m in \u001b[0;36mHz_w_cte\u001b[0;34m(z, Ode, w, H0)\u001b[0m\n\u001b[1;32m     28\u001b[0m \u001b[0;32mdef\u001b[0m \u001b[0mHz_w_cte\u001b[0m\u001b[0;34m(\u001b[0m\u001b[0mz\u001b[0m\u001b[0;34m,\u001b[0m\u001b[0mOde\u001b[0m\u001b[0;34m,\u001b[0m\u001b[0mw\u001b[0m\u001b[0;34m,\u001b[0m\u001b[0mH0\u001b[0m\u001b[0;34m=\u001b[0m\u001b[0;36m73.8\u001b[0m\u001b[0;34m)\u001b[0m\u001b[0;34m:\u001b[0m\u001b[0;34m\u001b[0m\u001b[0m\n\u001b[1;32m     29\u001b[0m     \u001b[0mOm\u001b[0m \u001b[0;34m=\u001b[0m \u001b[0;36m1\u001b[0m\u001b[0;34m-\u001b[0m\u001b[0mOde\u001b[0m\u001b[0;34m\u001b[0m\u001b[0m\n\u001b[0;32m---> 30\u001b[0;31m     \u001b[0mHz\u001b[0m \u001b[0;34m=\u001b[0m \u001b[0mH0\u001b[0m\u001b[0;34m*\u001b[0m\u001b[0mnp\u001b[0m\u001b[0;34m.\u001b[0m\u001b[0msqrt\u001b[0m\u001b[0;34m(\u001b[0m\u001b[0mOm\u001b[0m\u001b[0;34m*\u001b[0m\u001b[0;34m(\u001b[0m\u001b[0;36m1\u001b[0m\u001b[0;34m+\u001b[0m\u001b[0mz\u001b[0m\u001b[0;34m)\u001b[0m\u001b[0;34m**\u001b[0m\u001b[0;36m3\u001b[0m\u001b[0;34m+\u001b[0m\u001b[0mOde\u001b[0m\u001b[0;34m*\u001b[0m\u001b[0mnp\u001b[0m\u001b[0;34m.\u001b[0m\u001b[0mexp\u001b[0m\u001b[0;34m(\u001b[0m\u001b[0;36m3\u001b[0m\u001b[0;34m*\u001b[0m\u001b[0;34m(\u001b[0m\u001b[0;36m1\u001b[0m\u001b[0;34m+\u001b[0m\u001b[0mw\u001b[0m\u001b[0;34m)\u001b[0m\u001b[0;34m*\u001b[0m\u001b[0mnp\u001b[0m\u001b[0;34m.\u001b[0m\u001b[0mlog\u001b[0m\u001b[0;34m(\u001b[0m\u001b[0;36m1\u001b[0m\u001b[0;34m+\u001b[0m\u001b[0mz\u001b[0m\u001b[0;34m)\u001b[0m\u001b[0;34m)\u001b[0m\u001b[0;34m)\u001b[0m\u001b[0;34m\u001b[0m\u001b[0m\n\u001b[0m\u001b[1;32m     31\u001b[0m     \u001b[0;32mreturn\u001b[0m \u001b[0mHz\u001b[0m\u001b[0;34m\u001b[0m\u001b[0m\n",
      "\u001b[0;31mKeyboardInterrupt\u001b[0m: "
     ]
    }
   ],
   "source": [
    "chi2_w_sys_lc_res = opt.minimize(chi2_sys_wLCDM,(0.1,2.5,-19.3,.7,-1.))"
   ]
  },
  {
   "cell_type": "code",
   "execution_count": null,
   "metadata": {},
   "outputs": [],
   "source": [
    "print(chi2_w_sys_lc_res)"
   ]
  },
  {
   "cell_type": "markdown",
   "metadata": {},
   "source": [
    "#### Study the effect of Peculiar Velocities"
   ]
  },
  {
   "cell_type": "code",
   "execution_count": 32,
   "metadata": {},
   "outputs": [],
   "source": [
    "import emcee\n",
    "import corner"
   ]
  },
  {
   "cell_type": "code",
   "execution_count": 42,
   "metadata": {},
   "outputs": [],
   "source": [
    "def chi2_sys_flatLCDM_xerr(x,sigma_vsn=300,data=SNe_df,Csys=C_sys, Cext = C_nosys, Cinv_sys=Cinv_sys):\n",
    "    alfa,beta,Mb,Ode = x\n",
    "    Om = 1-Ode\n",
    "    mu_B = data['mb']+alfa*data['x1']-beta*data['color']-Mb\n",
    "    mu_cosmo = dist_mod(data['z'],Hz_flatLCDM,(Ode,))\n",
    "    mu_diff = (mu_B-mu_cosmo)**2\n",
    "    sigma2_lc = data['err_mb']**2+alfa**2*data['err_x1']**2+beta**2*data['err_color']**2\n",
    "    sigma2_z_bar = ((1+data['z'])/const.c)**2*sigma_vsn**2\n",
    "    Cinv = linalg.inv(np.diag(sigma2_lc+sigma2_z_bar)+Csys)\n",
    "    res = np.matmul(mu_diff,np.matmul(Cinv,mu_diff))\n",
    "    return res\n",
    "\n",
    "def lnprior(theta):\n",
    "    if 0 < theta[3] < 1:\n",
    "        return 0.0\n",
    "    return -np.inf\n",
    "\n",
    "def lnprob(theta,sigma_vsn):\n",
    "    lp = lnprior(theta)\n",
    "    if not np.isfinite(lp):\n",
    "        return -np.inf\n",
    "    return lp + chi2_sys_flatLCDM_xerr(theta,sigma_vsn=sigma_vsn)"
   ]
  },
  {
   "cell_type": "code",
   "execution_count": null,
   "metadata": {
    "scrolled": true
   },
   "outputs": [],
   "source": [
    "# Physical parameters\n",
    "sigma_vsn = 300.\n",
    "\n",
    "# MCMC parameters\n",
    "ndim, nwalkers = 4, 100\n",
    "pos = [chi2_sys_lc_res['x'] + 1e-4*np.random.randn(ndim) for i in range(nwalkers)]\n",
    "sampler = emcee.EnsembleSampler(nwalkers, ndim, lnprob, args=(sigma_vsn,))\n",
    "no_pintis = sampler.run_mcmc(pos, 500)"
   ]
  },
  {
   "cell_type": "code",
   "execution_count": null,
   "metadata": {},
   "outputs": [],
   "source": [
    "samples = sampler.chain[:, 50:, :].reshape((-1, ndim))\n",
    "fig = corner.corner(samples, labels=[r\"$\\alpha$\", r\"$\\beta$\", r\"$M_b$\", r\"$\\Omega_\\Lambda$\"],\n",
    "                      truths=chi2_sys_lc_res['x'])"
   ]
  },
  {
   "cell_type": "markdown",
   "metadata": {},
   "source": [
    "$${\\displaystyle \\sigma_{\\bar{z}}={\\sqrt {\\left({\\frac {\\partial f}{\\partial z}}\\right)^{2}\\sigma_{z}^{2}+\\left({\\frac {\\partial f}{\\partial v_{SN}}}\\right)^{2}\\sigma_{v_{SN}}^{2} }}}$$\n",
    "\n",
    "\n",
    "$$\\frac{\\partial f}{\\partial z}=\\frac{1}{1+\\frac{v_{SN}}{c}}\\sim 1$$ (if we assume that we measure $v_{SN}=0 \\pm \\sigma_{v_{SN}}$)"
   ]
  },
  {
   "cell_type": "code",
   "execution_count": 30,
   "metadata": {},
   "outputs": [
    {
     "name": "stdout",
     "output_type": "stream",
     "text": [
      "1.0292120157338982\n"
     ]
    }
   ],
   "source": [
    "sigma_vsn = 300.\n",
    "sigma_z_obs = 0. #the union2.1 measurements assume that sigma_z_obs =\n",
    "d_mod = SNe_df['d_mod']\n",
    "z_obs = SNe_df['z'] #we assume that z_obs is equivalent to \\bar{z} \n",
    "# since we take v_sn to be 0 with an uncertainty sigma_v_sn = 300\n",
    "z_bar = z_obs\n",
    "\n",
    "d_mod_err = SNe_df['err_d_mod']\n",
    "\n",
    "N = len(z_obs) \n",
    "v_SN = np.random.normal(loc=0, scale=300, size=N) \n",
    "\n",
    "sigma_z_bar = np.sqrt(sigma_z_obs**2+((1+z_obs)/const.c)**2*sigma_vsn**2)\n",
    "print(sigma_z_bar[0])"
   ]
  },
  {
   "cell_type": "code",
   "execution_count": 31,
   "metadata": {},
   "outputs": [
    {
     "name": "stdout",
     "output_type": "stream",
     "text": [
      "[0.90044111]\n",
      "[0.01023974]\n"
     ]
    }
   ],
   "source": [
    "from scipy.odr import ODR, Model, Data, RealData\n",
    "\n",
    "data = RealData(z_bar, d_mod, sx=sigma_z_bar, sy=d_mod_err)\n",
    "model = Model(lambda Ode,z : dist_mod(z,Hz_flatLCDM,(Ode,)))\n",
    "\n",
    "odr = ODR(data, model, [.7])\n",
    "odr.set_job(fit_type=0)\n",
    "output = odr.run()\n",
    "print(output.beta)\n",
    "print(output.sd_beta)"
   ]
  },
  {
   "cell_type": "markdown",
   "metadata": {
    "collapsed": true
   },
   "source": [
    "From Davis et al. 2011:\n",
    "\n",
    "$$\n",
    "(1+z)=(1+\\bar{z})(1-v_\\odot/c + v_{SN}/c)\n",
    "$$\n",
    "\n",
    "where $z$ is the observed redsfhit, and $\\bar{z}$ is the cosmological redshift. \n",
    "\n",
    "Reference values: $v_\\odot$ = 371km/s, $\\sigma_{SN}$ = 300km/s)."
   ]
  },
  {
   "cell_type": "code",
   "execution_count": null,
   "metadata": {},
   "outputs": [],
   "source": []
  },
  {
   "cell_type": "markdown",
   "metadata": {
    "collapsed": true
   },
   "source": [
    "## Questions\n",
    "\n",
    "* How to fit? Is curve_fit enough?\n",
    "* Do we have to explore models different than flat Universe?\n",
    "* In the study of peculiar velocities, we're assuming that the distance modulus remains unchanged after incorporating vsn and Vsun. however, the distance modulus depends on the luminosity distance, which according to Davis et al. (2011), should also be corrected for peculiar velocities. The results presented in this notebook assume $\\mu$ is unchanged.\n"
   ]
  },
  {
   "cell_type": "markdown",
   "metadata": {},
   "source": [
    "Last question: It's possible to do it theoretically as an order of magnitude."
   ]
  },
  {
   "cell_type": "markdown",
   "metadata": {
    "collapsed": true
   },
   "source": [
    "# Determination of $H_0$\n"
   ]
  },
  {
   "cell_type": "code",
   "execution_count": null,
   "metadata": {
    "collapsed": true
   },
   "outputs": [],
   "source": []
  },
  {
   "cell_type": "code",
   "execution_count": null,
   "metadata": {
    "collapsed": true
   },
   "outputs": [],
   "source": []
  }
 ],
 "metadata": {
  "kernelspec": {
   "display_name": "Python 3",
   "language": "python",
   "name": "python3"
  },
  "language_info": {
   "codemirror_mode": {
    "name": "ipython",
    "version": 3
   },
   "file_extension": ".py",
   "mimetype": "text/x-python",
   "name": "python",
   "nbconvert_exporter": "python",
   "pygments_lexer": "ipython3",
   "version": "3.6.4"
  }
 },
 "nbformat": 4,
 "nbformat_minor": 2
}
